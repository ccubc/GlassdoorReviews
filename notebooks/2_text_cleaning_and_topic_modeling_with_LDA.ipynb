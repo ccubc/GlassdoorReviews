{
 "cells": [
  {
   "cell_type": "markdown",
   "metadata": {},
   "source": [
    "reference: https://www.machinelearningplus.com/nlp/topic-modeling-gensim-python/#10removestopwordsmakebigramsandlemmatize"
   ]
  },
  {
   "cell_type": "code",
   "execution_count": 6,
   "metadata": {
    "collapsed": true
   },
   "outputs": [
    {
     "name": "stdout",
     "output_type": "stream",
     "text": [
      "Collecting en_core_web_sm==2.3.1\n",
      "  Downloading https://github.com/explosion/spacy-models/releases/download/en_core_web_sm-2.3.1/en_core_web_sm-2.3.1.tar.gz (12.0 MB)\n",
      "\u001b[K     |████████████████████████████████| 12.0 MB 653 kB/s eta 0:00:01\n",
      "\u001b[?25hRequirement already satisfied: spacy<2.4.0,>=2.3.0 in /Users/chengchen/opt/anaconda3/envs/cc_nlp/lib/python3.8/site-packages (from en_core_web_sm==2.3.1) (2.3.5)\n",
      "Requirement already satisfied: plac<1.2.0,>=0.9.6 in /Users/chengchen/opt/anaconda3/envs/cc_nlp/lib/python3.8/site-packages (from spacy<2.4.0,>=2.3.0->en_core_web_sm==2.3.1) (1.1.3)\n",
      "Requirement already satisfied: requests<3.0.0,>=2.13.0 in /Users/chengchen/opt/anaconda3/envs/cc_nlp/lib/python3.8/site-packages (from spacy<2.4.0,>=2.3.0->en_core_web_sm==2.3.1) (2.25.1)\n",
      "Requirement already satisfied: thinc<7.5.0,>=7.4.1 in /Users/chengchen/opt/anaconda3/envs/cc_nlp/lib/python3.8/site-packages (from spacy<2.4.0,>=2.3.0->en_core_web_sm==2.3.1) (7.4.5)\n",
      "Requirement already satisfied: blis<0.8.0,>=0.4.0 in /Users/chengchen/opt/anaconda3/envs/cc_nlp/lib/python3.8/site-packages (from spacy<2.4.0,>=2.3.0->en_core_web_sm==2.3.1) (0.7.4)\n",
      "Requirement already satisfied: srsly<1.1.0,>=1.0.2 in /Users/chengchen/opt/anaconda3/envs/cc_nlp/lib/python3.8/site-packages (from spacy<2.4.0,>=2.3.0->en_core_web_sm==2.3.1) (1.0.5)\n",
      "Requirement already satisfied: murmurhash<1.1.0,>=0.28.0 in /Users/chengchen/opt/anaconda3/envs/cc_nlp/lib/python3.8/site-packages (from spacy<2.4.0,>=2.3.0->en_core_web_sm==2.3.1) (1.0.5)\n",
      "Requirement already satisfied: wasabi<1.1.0,>=0.4.0 in /Users/chengchen/opt/anaconda3/envs/cc_nlp/lib/python3.8/site-packages (from spacy<2.4.0,>=2.3.0->en_core_web_sm==2.3.1) (0.8.0)\n",
      "Requirement already satisfied: setuptools in /Users/chengchen/opt/anaconda3/envs/cc_nlp/lib/python3.8/site-packages (from spacy<2.4.0,>=2.3.0->en_core_web_sm==2.3.1) (51.0.0.post20201207)\n",
      "Requirement already satisfied: preshed<3.1.0,>=3.0.2 in /Users/chengchen/opt/anaconda3/envs/cc_nlp/lib/python3.8/site-packages (from spacy<2.4.0,>=2.3.0->en_core_web_sm==2.3.1) (3.0.5)\n",
      "Requirement already satisfied: catalogue<1.1.0,>=0.0.7 in /Users/chengchen/opt/anaconda3/envs/cc_nlp/lib/python3.8/site-packages (from spacy<2.4.0,>=2.3.0->en_core_web_sm==2.3.1) (1.0.0)\n",
      "Requirement already satisfied: tqdm<5.0.0,>=4.38.0 in /Users/chengchen/opt/anaconda3/envs/cc_nlp/lib/python3.8/site-packages (from spacy<2.4.0,>=2.3.0->en_core_web_sm==2.3.1) (4.55.0)\n",
      "Requirement already satisfied: numpy>=1.15.0 in /Users/chengchen/opt/anaconda3/envs/cc_nlp/lib/python3.8/site-packages (from spacy<2.4.0,>=2.3.0->en_core_web_sm==2.3.1) (1.19.4)\n",
      "Requirement already satisfied: cymem<2.1.0,>=2.0.2 in /Users/chengchen/opt/anaconda3/envs/cc_nlp/lib/python3.8/site-packages (from spacy<2.4.0,>=2.3.0->en_core_web_sm==2.3.1) (2.0.5)\n",
      "Requirement already satisfied: urllib3<1.27,>=1.21.1 in /Users/chengchen/opt/anaconda3/envs/cc_nlp/lib/python3.8/site-packages (from requests<3.0.0,>=2.13.0->spacy<2.4.0,>=2.3.0->en_core_web_sm==2.3.1) (1.26.2)\n",
      "Requirement already satisfied: certifi>=2017.4.17 in /Users/chengchen/opt/anaconda3/envs/cc_nlp/lib/python3.8/site-packages (from requests<3.0.0,>=2.13.0->spacy<2.4.0,>=2.3.0->en_core_web_sm==2.3.1) (2020.12.5)\n",
      "Requirement already satisfied: idna<3,>=2.5 in /Users/chengchen/opt/anaconda3/envs/cc_nlp/lib/python3.8/site-packages (from requests<3.0.0,>=2.13.0->spacy<2.4.0,>=2.3.0->en_core_web_sm==2.3.1) (2.10)\n",
      "Requirement already satisfied: chardet<5,>=3.0.2 in /Users/chengchen/opt/anaconda3/envs/cc_nlp/lib/python3.8/site-packages (from requests<3.0.0,>=2.13.0->spacy<2.4.0,>=2.3.0->en_core_web_sm==2.3.1) (4.0.0)\n",
      "Building wheels for collected packages: en-core-web-sm\n",
      "  Building wheel for en-core-web-sm (setup.py) ... \u001b[?25ldone\n",
      "\u001b[?25h  Created wheel for en-core-web-sm: filename=en_core_web_sm-2.3.1-py3-none-any.whl size=12047106 sha256=1af9acf773f724d33f1a48a66385f1c9a9dcae16d040a2b95c2cbec9adfa16da\n",
      "  Stored in directory: /private/var/folders/wc/svbbf96j1d75znyyg8vnm5c80000gn/T/pip-ephem-wheel-cache-c30em6ww/wheels/ee/4d/f7/563214122be1540b5f9197b52cb3ddb9c4a8070808b22d5a84\n",
      "Successfully built en-core-web-sm\n",
      "Installing collected packages: en-core-web-sm\n",
      "Successfully installed en-core-web-sm-2.3.1\n",
      "\u001b[38;5;2m✔ Download and installation successful\u001b[0m\n",
      "You can now load the model via spacy.load('en_core_web_sm')\n",
      "\u001b[38;5;2m✔ Linking successful\u001b[0m\n",
      "/Users/chengchen/opt/anaconda3/envs/cc_nlp/lib/python3.8/site-packages/en_core_web_sm\n",
      "-->\n",
      "/Users/chengchen/opt/anaconda3/envs/cc_nlp/lib/python3.8/site-packages/spacy/data/en\n",
      "You can now load the model via spacy.load('en')\n"
     ]
    }
   ],
   "source": [
    "import nltk\n",
    "nltk.download('stopwords') # run this only once\n",
    "!python3 -m spacy download en # run this only once"
   ]
  },
  {
   "cell_type": "code",
   "execution_count": 15,
   "metadata": {},
   "outputs": [],
   "source": [
    "# spacy for lemmatization\n",
    "import spacy"
   ]
  },
  {
   "cell_type": "code",
   "execution_count": 22,
   "metadata": {},
   "outputs": [],
   "source": [
    "import re\n",
    "import numpy as np\n",
    "import pandas as pd\n",
    "\n",
    "from pprint import pprint\n",
    "\n",
    "# gensim\n",
    "import gensim\n",
    "import gensim.corpora as corpora\n",
    "from gensim.utils import simple_preprocess\n",
    "from gensim.models import CoherenceModel\n",
    "\n",
    "# plotting tools\n",
    "import pyLDAvis\n",
    "import pyLDAvis.gensim\n",
    "import matplotlib.pyplot as plt\n",
    "%matplotlib inline\n",
    "\n",
    "# enable logging for gensim - optional\n",
    "import logging\n",
    "logging.basicConfig(format='%(asctime)s : %(levelname)s : %(message)s', level=logging.ERROR)\n",
    "\n",
    "import warnings\n",
    "warnings.filterwarnings(\"ignore\", category=DeprecationWarning)\n",
    "\n",
    "import json\n",
    "import pickle"
   ]
  },
  {
   "cell_type": "code",
   "execution_count": 21,
   "metadata": {},
   "outputs": [],
   "source": [
    "# NLTK stop words\n",
    "from nltk.corpus import stopwords\n",
    "stop_words = stopwords.words('english')"
   ]
  },
  {
   "cell_type": "markdown",
   "metadata": {},
   "source": [
    "### import data"
   ]
  },
  {
   "cell_type": "code",
   "execution_count": 25,
   "metadata": {},
   "outputs": [],
   "source": [
    "with open(\"../src/config.json\") as f:\n",
    "    config = json.load(f)\n",
    "with open(config['data_path']+'processed/'+'review_pros_subset.pkl', 'rb') as f:\n",
    "    df = pickle.load(f)"
   ]
  },
  {
   "cell_type": "code",
   "execution_count": 26,
   "metadata": {},
   "outputs": [
    {
     "data": {
      "text/html": [
       "<div>\n",
       "<style scoped>\n",
       "    .dataframe tbody tr th:only-of-type {\n",
       "        vertical-align: middle;\n",
       "    }\n",
       "\n",
       "    .dataframe tbody tr th {\n",
       "        vertical-align: top;\n",
       "    }\n",
       "\n",
       "    .dataframe thead th {\n",
       "        text-align: right;\n",
       "    }\n",
       "</style>\n",
       "<table border=\"1\" class=\"dataframe\">\n",
       "  <thead>\n",
       "    <tr style=\"text-align: right;\">\n",
       "      <th></th>\n",
       "      <th>review_pros</th>\n",
       "      <th>review_date</th>\n",
       "      <th>company_name</th>\n",
       "      <th>review_year</th>\n",
       "    </tr>\n",
       "  </thead>\n",
       "  <tbody>\n",
       "    <tr>\n",
       "      <th>98560</th>\n",
       "      <td>Great team, flexibility, learning, high techno...</td>\n",
       "      <td>10/17/2016</td>\n",
       "      <td>Hewlett-Packard</td>\n",
       "      <td>2016.0</td>\n",
       "    </tr>\n",
       "    <tr>\n",
       "      <th>17253</th>\n",
       "      <td>Great company to work for</td>\n",
       "      <td>04/13/2016</td>\n",
       "      <td>Lowe's</td>\n",
       "      <td>2016.0</td>\n",
       "    </tr>\n",
       "    <tr>\n",
       "      <th>80327</th>\n",
       "      <td>very Flexible schedule with good benefits</td>\n",
       "      <td>10/18/2016</td>\n",
       "      <td>J.P. Morgan</td>\n",
       "      <td>2016.0</td>\n",
       "    </tr>\n",
       "    <tr>\n",
       "      <th>26974</th>\n",
       "      <td>Great company and atmosphere. Starbucks offers...</td>\n",
       "      <td>09/16/2016</td>\n",
       "      <td>Starbucks</td>\n",
       "      <td>2016.0</td>\n",
       "    </tr>\n",
       "    <tr>\n",
       "      <th>77991</th>\n",
       "      <td>If you don't have any development experience t...</td>\n",
       "      <td>04/01/2016</td>\n",
       "      <td>Amazon.com</td>\n",
       "      <td>2016.0</td>\n",
       "    </tr>\n",
       "  </tbody>\n",
       "</table>\n",
       "</div>"
      ],
      "text/plain": [
       "                                             review_pros review_date  \\\n",
       "98560  Great team, flexibility, learning, high techno...  10/17/2016   \n",
       "17253                          Great company to work for  04/13/2016   \n",
       "80327          very Flexible schedule with good benefits  10/18/2016   \n",
       "26974  Great company and atmosphere. Starbucks offers...  09/16/2016   \n",
       "77991  If you don't have any development experience t...  04/01/2016   \n",
       "\n",
       "          company_name  review_year  \n",
       "98560  Hewlett-Packard       2016.0  \n",
       "17253           Lowe's       2016.0  \n",
       "80327      J.P. Morgan       2016.0  \n",
       "26974        Starbucks       2016.0  \n",
       "77991       Amazon.com       2016.0  "
      ]
     },
     "execution_count": 26,
     "metadata": {},
     "output_type": "execute_result"
    }
   ],
   "source": [
    "df.head()"
   ]
  },
  {
   "cell_type": "code",
   "execution_count": 27,
   "metadata": {},
   "outputs": [],
   "source": [
    "data = df.review_pros.values.tolist()"
   ]
  },
  {
   "cell_type": "markdown",
   "metadata": {},
   "source": [
    "### tokenize words and clean-up text"
   ]
  },
  {
   "cell_type": "code",
   "execution_count": 29,
   "metadata": {},
   "outputs": [],
   "source": [
    "def sent_to_words(sentences):\n",
    "    for sentence in sentences:\n",
    "        yield(gensim.utils.simple_preprocess(str(sentence), deacc=True)) # deacc=True removes punctuations"
   ]
  },
  {
   "cell_type": "code",
   "execution_count": 30,
   "metadata": {},
   "outputs": [],
   "source": [
    "data_words = list(sent_to_words(data))"
   ]
  },
  {
   "cell_type": "code",
   "execution_count": 31,
   "metadata": {},
   "outputs": [
    {
     "name": "stdout",
     "output_type": "stream",
     "text": [
      "['Great team, flexibility, learning, high technology.']\n"
     ]
    }
   ],
   "source": [
    "print(data[:1])"
   ]
  },
  {
   "cell_type": "code",
   "execution_count": 32,
   "metadata": {},
   "outputs": [
    {
     "name": "stdout",
     "output_type": "stream",
     "text": [
      "[['great', 'team', 'flexibility', 'learning', 'high', 'technology']]\n"
     ]
    }
   ],
   "source": [
    "print(data_words[:1])"
   ]
  },
  {
   "cell_type": "markdown",
   "metadata": {},
   "source": [
    "### create bigram and trigram models"
   ]
  },
  {
   "cell_type": "code",
   "execution_count": 41,
   "metadata": {},
   "outputs": [],
   "source": [
    "# build the bigram and trigram models\n",
    "bigram = gensim.models.Phrases(data_words, min_count=5, threshold=50) # higher threshold fewer phrases\n",
    "trigram = gensim.models.Phrases(bigram[data_words], threshold=50)"
   ]
  },
  {
   "cell_type": "code",
   "execution_count": 42,
   "metadata": {},
   "outputs": [],
   "source": [
    "# faster way to get a sentence clubbed as a trigram/bigram\n",
    "bigram_mod = gensim.models.phrases.Phraser(bigram)\n",
    "trigram_mod = gensim.models.phrases.Phraser(trigram)"
   ]
  },
  {
   "cell_type": "code",
   "execution_count": 43,
   "metadata": {},
   "outputs": [
    {
     "name": "stdout",
     "output_type": "stream",
     "text": [
      "['great', 'company', 'and', 'atmosphere', 'starbucks', 'offers', 'matched', 'and', 'vested', 'stock_options']\n"
     ]
    }
   ],
   "source": [
    "# see trigram example\n",
    "print(trigram_mod[bigram_mod[data_words[3]]])  # stock_options"
   ]
  },
  {
   "cell_type": "markdown",
   "metadata": {},
   "source": [
    "### remove stopwords, make bigrams and lemmatize"
   ]
  },
  {
   "cell_type": "code",
   "execution_count": 44,
   "metadata": {},
   "outputs": [],
   "source": [
    "# define functions for stopwords, bigrams, trigrams and lemmatization\n",
    "def remove_stopwords(texts):\n",
    "    return [[word for word in simple_preprocess(str(doc)) if word not in stop_words] for doc in texts]\n",
    "\n",
    "def make_bigrams(texts):\n",
    "    return [bigram_mod[doc] for doc in texts]\n",
    "\n",
    "def make_trigrams(texts):\n",
    "    return [trigram_mod[bigram_mod[doc]] for doc in texts]\n",
    "\n",
    "def lemmatization(texts, allowed_postags=['NOUN', 'ADJ', 'VERB', 'ADV']):\n",
    "    \"\"\"https://spacy.io/api/annotation\"\"\"\n",
    "    texts_out = []\n",
    "    for sent in texts:\n",
    "        doc = nlp(\" \".join(sent))\n",
    "        texts_out.append([token.lemma_ for token in doc if token.pos_ in allowed_postags])\n",
    "    return texts_out"
   ]
  },
  {
   "cell_type": "code",
   "execution_count": 47,
   "metadata": {},
   "outputs": [],
   "source": [
    "# call the functions in order\n",
    "# remove stopwords\n",
    "data_words_nostops = remove_stopwords(data_words)"
   ]
  },
  {
   "cell_type": "code",
   "execution_count": 48,
   "metadata": {},
   "outputs": [],
   "source": [
    "# form bigrams\n",
    "data_words_bigrams = make_bigrams(data_words_nostops)"
   ]
  },
  {
   "cell_type": "code",
   "execution_count": 49,
   "metadata": {},
   "outputs": [],
   "source": [
    "# initialize spacy 'en' model, keeping only tagger component (for efficienty)\n",
    "nlp = spacy.load('en', disable=['parser', 'ner'])"
   ]
  },
  {
   "cell_type": "code",
   "execution_count": 58,
   "metadata": {},
   "outputs": [
    {
     "name": "stdout",
     "output_type": "stream",
     "text": [
      "['great', 'company', 'atmosphere', 'starbucks', 'offer', 'match', 'vest', 'stock_options']\n"
     ]
    }
   ],
   "source": [
    "# do lemmatization keeping only noun, adj, vb, adv, propn\n",
    "data_lemmatized = lemmatization(data_words_bigrams, allowed_postags=['NOUN', 'ADJ', 'VERB', 'ADV', 'PROPN'])\n",
    "print(data_lemmatized[3])"
   ]
  },
  {
   "cell_type": "markdown",
   "metadata": {},
   "source": [
    "### create the dictionary and corpus needed for topic modeling"
   ]
  },
  {
   "cell_type": "code",
   "execution_count": 60,
   "metadata": {},
   "outputs": [],
   "source": [
    "# create dictionary\n",
    "id2word = corpora.Dictionary(data_lemmatized)"
   ]
  },
  {
   "cell_type": "code",
   "execution_count": 61,
   "metadata": {},
   "outputs": [],
   "source": [
    "# create corpus\n",
    "texts = data_lemmatized\n",
    "# term document frequency\n",
    "corpus = [id2word.doc2bow(text) for text in texts]"
   ]
  },
  {
   "cell_type": "code",
   "execution_count": 63,
   "metadata": {},
   "outputs": [
    {
     "name": "stdout",
     "output_type": "stream",
     "text": [
      "[[(0, 1), (1, 1), (2, 1), (3, 1), (4, 1), (5, 1)]]\n"
     ]
    }
   ],
   "source": [
    "# view\n",
    "print(corpus[:1])"
   ]
  },
  {
   "cell_type": "code",
   "execution_count": 65,
   "metadata": {},
   "outputs": [
    {
     "name": "stdout",
     "output_type": "stream",
     "text": [
      "flexibility\n"
     ]
    }
   ],
   "source": [
    "print(id2word[0])"
   ]
  },
  {
   "cell_type": "code",
   "execution_count": 66,
   "metadata": {},
   "outputs": [
    {
     "data": {
      "text/plain": [
       "[[('flexibility', 1),\n",
       "  ('great', 1),\n",
       "  ('high', 1),\n",
       "  ('learn', 1),\n",
       "  ('team', 1),\n",
       "  ('technology', 1)]]"
      ]
     },
     "execution_count": 66,
     "metadata": {},
     "output_type": "execute_result"
    }
   ],
   "source": [
    "# human readable format of corpus (term-frequency)\n",
    "[[(id2word[id], freq) for id, freq in cp] for cp in corpus[:1]]"
   ]
  },
  {
   "cell_type": "markdown",
   "metadata": {},
   "source": [
    "### build the topic model"
   ]
  },
  {
   "cell_type": "code",
   "execution_count": 67,
   "metadata": {},
   "outputs": [],
   "source": [
    "# build LDA model\n",
    "lda_model = gensim.models.ldamodel.LdaModel(corpus=corpus,\n",
    "                                           id2word=id2word,\n",
    "                                           num_topics=20,\n",
    "                                           random_state=100,\n",
    "                                           update_every=1,\n",
    "                                           chunksize=100,\n",
    "                                           passes=10,\n",
    "                                           alpha='auto',\n",
    "                                           per_word_topics=True)"
   ]
  },
  {
   "cell_type": "markdown",
   "metadata": {},
   "source": [
    "### view topics in the LDA model"
   ]
  },
  {
   "cell_type": "code",
   "execution_count": 68,
   "metadata": {},
   "outputs": [
    {
     "name": "stdout",
     "output_type": "stream",
     "text": [
      "[(0,\n",
      "  '0.316*\"opportunity\" + 0.152*\"fun\" + 0.132*\"care\" + 0.132*\"training\" + '\n",
      "  '0.071*\"offer\" + 0.051*\"advancement\" + 0.041*\"bonus\" + 0.019*\"fast_pace\" + '\n",
      "  '0.014*\"bring\" + 0.013*\"dedicated\"'),\n",
      " (1,\n",
      "  '0.374*\"environment\" + 0.204*\"get\" + 0.081*\"want\" + 0.080*\"awesome\" + '\n",
      "  '0.046*\"week\" + 0.045*\"come\" + 0.043*\"available\" + 0.025*\"amount\" + '\n",
      "  '0.019*\"understand\" + 0.012*\"relatively\"'),\n",
      " (2,\n",
      "  '0.696*\"great\" + 0.074*\"culture\" + 0.035*\"product\" + 0.032*\"customer\" + '\n",
      "  '0.032*\"leadership\" + 0.032*\"wonderful\" + 0.032*\"change\" + '\n",
      "  '0.021*\"supervisor\" + 0.015*\"leader\" + 0.008*\"reason\"'),\n",
      " (3,\n",
      "  '0.540*\"people\" + 0.108*\"love\" + 0.090*\"always\" + 0.069*\"growth\" + '\n",
      "  '0.037*\"see\" + 0.025*\"plenty\" + 0.022*\"ever\" + 0.021*\"especially\" + '\n",
      "  '0.020*\"smart\" + 0.016*\"policy\"'),\n",
      " (4,\n",
      "  '0.388*\"employee\" + 0.306*\"place\" + 0.137*\"atmosphere\" + 0.031*\"leave\" + '\n",
      "  '0.022*\"match\" + 0.019*\"responsibility\" + 0.014*\"hr\" + 0.013*\"connection\" + '\n",
      "  '0.009*\"coverage\" + 0.006*\"politic\"'),\n",
      " (5,\n",
      "  '0.180*\"working\" + 0.106*\"grow\" + 0.076*\"industry\" + 0.075*\"service\" + '\n",
      "  '0.063*\"overall\" + 0.050*\"would\" + 0.043*\"personal\" + 0.041*\"security\" + '\n",
      "  '0.038*\"advance\" + 0.031*\"say\"'),\n",
      " (6,\n",
      "  '0.219*\"make\" + 0.102*\"career\" + 0.100*\"year\" + 0.078*\"feel\" + '\n",
      "  '0.077*\"position\" + 0.072*\"home\" + 0.057*\"pro\" + 0.035*\"summer\" + '\n",
      "  '0.034*\"world\" + 0.028*\"perk\"'),\n",
      " (7,\n",
      "  '0.000*\"facilties\" + 0.000*\"investigator\" + 0.000*\"interesse\" + '\n",
      "  '0.000*\"spannend\" + 0.000*\"starkem\" + 0.000*\"nsc\" + 0.000*\"stevedore\" + '\n",
      "  '0.000*\"savoir\" + 0.000*\"contemporary\" + 0.000*\"ebth\"'),\n",
      " (8,\n",
      "  '0.256*\"time\" + 0.095*\"decent\" + 0.090*\"co_workers\" + 0.085*\"salary\" + '\n",
      "  '0.083*\"office\" + 0.060*\"location\" + 0.045*\"full\" + 0.032*\"large\" + '\n",
      "  '0.031*\"compensation\" + 0.026*\"retirement\"'),\n",
      " (9,\n",
      "  '0.379*\"flexible\" + 0.246*\"schedule\" + 0.062*\"challenge\" + 0.056*\"find\" + '\n",
      "  '0.038*\"diverse\" + 0.030*\"healthcare\" + 0.030*\"role\" + 0.026*\"seem\" + '\n",
      "  '0.023*\"person\" + 0.022*\"solid\"'),\n",
      " (10,\n",
      "  '0.221*\"life\" + 0.220*\"staff\" + 0.208*\"management\" + 0.166*\"balance\" + '\n",
      "  '0.066*\"much\" + 0.031*\"try\" + 0.031*\"learning\" + 0.014*\"generous\" + '\n",
      "  '0.004*\"lose\" + 0.004*\"stressful\"'),\n",
      " (11,\n",
      "  '0.315*\"team\" + 0.200*\"day\" + 0.162*\"member\" + 0.081*\"hard\" + 0.078*\"long\" + '\n",
      "  '0.039*\"stay\" + 0.033*\"kind\" + 0.029*\"busy\" + 0.007*\"perform\" + 0.005*\"eat\"'),\n",
      " (12,\n",
      "  '0.438*\"hour\" + 0.285*\"free\" + 0.109*\"discount\" + 0.057*\"food\" + '\n",
      "  '0.030*\"promotion\" + 0.017*\"item\" + 0.004*\"drink\" + 0.001*\"clock\" + '\n",
      "  '0.001*\"beverage\" + 0.000*\"family\"'),\n",
      " (13,\n",
      "  '0.368*\"work\" + 0.260*\"good\" + 0.113*\"benefit\" + 0.112*\"company\" + '\n",
      "  '0.086*\"pay\" + 0.015*\"vacation\" + 0.012*\"flexibility\" + 0.009*\"area\" + '\n",
      "  '0.007*\"store\" + 0.006*\"building\"'),\n",
      " (14,\n",
      "  '0.272*\"well\" + 0.160*\"need\" + 0.092*\"school\" + 0.080*\"interesting\" + '\n",
      "  '0.065*\"keep\" + 0.052*\"build\" + 0.045*\"live\" + 0.039*\"usually\" + '\n",
      "  '0.030*\"vision\" + 0.020*\"definitely\"'),\n",
      " (15,\n",
      "  '0.381*\"nice\" + 0.190*\"manager\" + 0.112*\"project\" + 0.064*\"allow\" + '\n",
      "  '0.057*\"plan\" + 0.036*\"do\" + 0.031*\"issue\" + 0.030*\"talented\" + 0.025*\"talk\" '\n",
      "  '+ 0.016*\"organize\"'),\n",
      " (16,\n",
      "  '0.300*\"lot\" + 0.162*\"learn\" + 0.130*\"many\" + 0.084*\"go\" + 0.079*\"different\" '\n",
      "  '+ 0.063*\"helpful\" + 0.044*\"department\" + 0.028*\"college\" + 0.018*\"real\" + '\n",
      "  '0.015*\"actually\"'),\n",
      " (17,\n",
      "  '0.272*\"job\" + 0.140*\"experience\" + 0.106*\"easy\" + 0.090*\"new\" + '\n",
      "  '0.073*\"give\" + 0.058*\"part\" + 0.055*\"meet\" + 0.046*\"student\" + '\n",
      "  '0.040*\"start\" + 0.032*\"look\"'),\n",
      " (18,\n",
      "  '0.124*\"really\" + 0.092*\"excellent\" + 0.076*\"coworker\" + 0.068*\"amazing\" + '\n",
      "  '0.058*\"organization\" + 0.054*\"enjoy\" + 0.052*\"able\" + 0.048*\"development\" + '\n",
      "  '0.044*\"move\" + 0.040*\"high\"'),\n",
      " (19,\n",
      "  '0.265*\"help\" + 0.246*\"friendly\" + 0.117*\"provide\" + 0.106*\"also\" + '\n",
      "  '0.063*\"skill\" + 0.030*\"depend\" + 0.024*\"resource\" + 0.015*\"performance\" + '\n",
      "  '0.014*\"number\" + 0.014*\"interaction\"')]\n"
     ]
    }
   ],
   "source": [
    "# print keywords in the 20 topics\n",
    "pprint(lda_model.print_topics())\n",
    "doc_lda = lda_model[corpus]"
   ]
  },
  {
   "cell_type": "markdown",
   "metadata": {},
   "source": [
    "### compute coherence score (a measure to judge how good a given topic model is)"
   ]
  },
  {
   "cell_type": "code",
   "execution_count": 69,
   "metadata": {},
   "outputs": [
    {
     "name": "stdout",
     "output_type": "stream",
     "text": [
      "Coherence score: 0.48784250958634107\n"
     ]
    }
   ],
   "source": [
    "coherence_model_lda = CoherenceModel(model=lda_model, texts=data_lemmatized, dictionary=id2word, coherence='c_v')\n",
    "coherence_lda = coherence_model_lda.get_coherence()\n",
    "print(f\"Coherence score: {coherence_lda}\")"
   ]
  },
  {
   "cell_type": "markdown",
   "metadata": {},
   "source": [
    "### build LDA Mallet model (to be compared to the Gensim version)"
   ]
  },
  {
   "cell_type": "code",
   "execution_count": 71,
   "metadata": {},
   "outputs": [],
   "source": [
    "# Download File: http://mallet.cs.umass.edu/dist/mallet-2.0.8.zip\n",
    "mallet_path = '/Users/chengchen/Downloads/mallet-2.0.8/bin/mallet' # update this path\n",
    "ldamallet = gensim.models.wrappers.LdaMallet(mallet_path, corpus=corpus, num_topics=20, id2word=id2word)"
   ]
  },
  {
   "cell_type": "code",
   "execution_count": 73,
   "metadata": {},
   "outputs": [
    {
     "name": "stdout",
     "output_type": "stream",
     "text": [
      "[(6,\n",
      "  [('environment', 0.2464512891012842),\n",
      "   ('friendly', 0.13005575376692524),\n",
      "   ('working', 0.07111605730308883),\n",
      "   ('atmosphere', 0.06044537549234613),\n",
      "   ('staff', 0.056866660120236105),\n",
      "   ('fun', 0.03931131550522078),\n",
      "   ('helpful', 0.03790383293509214),\n",
      "   ('colleague', 0.03267759920569976),\n",
      "   ('supportive', 0.030157223440585686),\n",
      "   ('co_workers', 0.027309526147534725)]),\n",
      " (4,\n",
      "  [('time', 0.15484076367707017),\n",
      "   ('day', 0.07556664715366998),\n",
      "   ('year', 0.053732630865452755),\n",
      "   ('pro', 0.03300777438867836),\n",
      "   ('part', 0.030286224851341775),\n",
      "   ('long', 0.02934138501196455),\n",
      "   ('full', 0.02801655523718561),\n",
      "   ('week', 0.02592147559334915),\n",
      "   ('start', 0.021875096281233634),\n",
      "   ('leave', 0.020160006572798882)]),\n",
      " (16,\n",
      "  [('project', 0.062481103454027964),\n",
      "   ('technology', 0.041014627229792426),\n",
      "   ('client', 0.04073313385531241),\n",
      "   ('interesting', 0.03509284068517572),\n",
      "   ('industry', 0.027440391171533723),\n",
      "   ('travel', 0.025198869856229867),\n",
      "   ('exposure', 0.024375241093862403),\n",
      "   ('world', 0.021820949362469637),\n",
      "   ('global', 0.021153705808146628),\n",
      "   ('international', 0.016024270984288498)]),\n",
      " (9,\n",
      "  [('work', 0.4301573110245439),\n",
      "   ('life', 0.14531579283479149),\n",
      "   ('good', 0.139355429252613),\n",
      "   ('balance', 0.11961172488664666),\n",
      "   ('home', 0.04441535219362667),\n",
      "   ('flexibility', 0.03602826915298976),\n",
      "   ('culture', 0.008514805117397875),\n",
      "   ('option', 0.007471741490516636),\n",
      "   ('pressure', 0.007120505779423973),\n",
      "   ('load', 0.005321753198373672)]),\n",
      " (17,\n",
      "  [('experience', 0.11985140418710942),\n",
      "   ('community', 0.038242843681970305),\n",
      "   ('skill', 0.03555685522738842),\n",
      "   ('give', 0.029924943951652207),\n",
      "   ('department', 0.0282678623647529),\n",
      "   ('build', 0.02228937193358677),\n",
      "   ('ability', 0.021769503200441888),\n",
      "   ('service', 0.02141209344640478),\n",
      "   ('intern', 0.019040192351431263),\n",
      "   ('position', 0.01884524157650193)]),\n",
      " (11,\n",
      "  [('good', 0.699122150243606),\n",
      "   ('benefit', 0.10999707021712947),\n",
      "   ('salary', 0.050761200993955966),\n",
      "   ('pay', 0.041754831428974466),\n",
      "   ('compensation', 0.009494666710070857),\n",
      "   ('fresher', 0.00829020041885044),\n",
      "   ('infrastructure', 0.005306162309971028),\n",
      "   ('onsite', 0.004785312021875712),\n",
      "   ('starting', 0.004329568019792311),\n",
      "   ('hike', 0.004025738685070043)]),\n",
      " (5,\n",
      "  [('opportunity', 0.13501389271851869),\n",
      "   ('training', 0.0920313063397459),\n",
      "   ('career', 0.079485439158377),\n",
      "   ('excellent', 0.05930387935605659),\n",
      "   ('program', 0.04122213502449785),\n",
      "   ('development', 0.03918595032557745),\n",
      "   ('growth', 0.03604683224807517),\n",
      "   ('provide', 0.033512206503064884),\n",
      "   ('professional', 0.030383693554202812),\n",
      "   ('support', 0.02298131376333595)]),\n",
      " (1,\n",
      "  [('lot', 0.2188320872903617),\n",
      "   ('learn', 0.1449002043061449),\n",
      "   ('opportunity', 0.11596057564940168),\n",
      "   ('grow', 0.05118879234862262),\n",
      "   ('thing', 0.038268112525538266),\n",
      "   ('room', 0.028221189465885366),\n",
      "   ('growth', 0.028041579668170898),\n",
      "   ('chance', 0.018084461507375228),\n",
      "   ('fast_pace', 0.01798343099616084),\n",
      "   ('fast', 0.017309894254731596)]),\n",
      " (14,\n",
      "  [('great', 0.49844061048440613),\n",
      "   ('work', 0.20423578854235788),\n",
      "   ('place', 0.16226498562264985),\n",
      "   ('people', 0.0723401902234019),\n",
      "   ('culture', 0.015848263658482638),\n",
      "   ('start', 0.006359212563592126),\n",
      "   ('awesome', 0.00409201504092015),\n",
      "   ('co_worker', 0.0038155275381552755),\n",
      "   ('exception', 0.00068568900685689),\n",
      "   ('enviornment', 0.0005529750055297501)]),\n",
      " (7,\n",
      "  [('people', 0.2641007233972058),\n",
      "   ('nice', 0.15247666905958362),\n",
      "   ('office', 0.06796620464962173),\n",
      "   ('work', 0.0671489314705395),\n",
      "   ('location', 0.05249323540780827),\n",
      "   ('meet', 0.03800320282732343),\n",
      "   ('smart', 0.02700314760616268),\n",
      "   ('cool', 0.018985035065437077),\n",
      "   ('event', 0.016378596278093766),\n",
      "   ('building', 0.01352918438345574)])]\n"
     ]
    }
   ],
   "source": [
    "# Show topics\n",
    "pprint(ldamallet.show_topics(formatted=False))"
   ]
  },
  {
   "cell_type": "code",
   "execution_count": 75,
   "metadata": {},
   "outputs": [
    {
     "name": "stdout",
     "output_type": "stream",
     "text": [
      "\n",
      "Coherence Score:  0.601926948255689\n"
     ]
    }
   ],
   "source": [
    "# compute coherence score\n",
    "coherence_model_ldamallet = CoherenceModel(model=ldamallet, texts=data_lemmatized, dictionary=id2word, coherence='c_v')\n",
    "coherence_ldamallet = coherence_model_ldamallet.get_coherence()\n",
    "print('\\nCoherence Score: ', coherence_ldamallet)"
   ]
  },
  {
   "cell_type": "markdown",
   "metadata": {},
   "source": [
    "Mallet's coherence score is much higher than Gensim version!!"
   ]
  },
  {
   "cell_type": "markdown",
   "metadata": {},
   "source": [
    "### find optimal number of topics for LDA"
   ]
  },
  {
   "cell_type": "code",
   "execution_count": 78,
   "metadata": {},
   "outputs": [],
   "source": [
    "def compute_coherence_values(dictionary, corpus, texts, start, limit, step):\n",
    "    \"\"\"\n",
    "    Compute c_v coherence for various number of topics\n",
    "    \n",
    "    Parameters:\n",
    "    ----------\n",
    "    dictionary: Gensim dictionary\n",
    "    corpus: Gensim corpus\n",
    "    texts: List of input texts\n",
    "    limit: Max num of topics\n",
    "    \n",
    "    Returns:\n",
    "    -------\n",
    "    model_list: List of LDA topic models\n",
    "    coherence_values: Coherence values corresponding to the LDA model with respective to number of topics\n",
    "    \"\"\"\n",
    "    coherence_values = []\n",
    "    model_list = []\n",
    "    for num_topics in range(start, limit, step):\n",
    "        print(f\"modelling for num topics: {num_topics} ... \")\n",
    "        model = gensim.models.wrappers.LdaMallet(mallet_path, corpus=corpus, num_topics=num_topics, id2word=id2word)\n",
    "        model_list.append(model)\n",
    "        coherencemodel = CoherenceModel(model=model, texts=texts, dictionary=dictionary, coherence='c_v')\n",
    "        coherence_values.append(coherencemodel.get_coherence())\n",
    "    return model_list, coherence_values"
   ]
  },
  {
   "cell_type": "code",
   "execution_count": 79,
   "metadata": {},
   "outputs": [
    {
     "name": "stdout",
     "output_type": "stream",
     "text": [
      "modelling for num topics: 2 ... \n",
      "modelling for num topics: 4 ... \n",
      "modelling for num topics: 6 ... \n",
      "modelling for num topics: 8 ... \n",
      "modelling for num topics: 10 ... \n",
      "modelling for num topics: 12 ... \n",
      "modelling for num topics: 14 ... \n",
      "modelling for num topics: 16 ... \n",
      "modelling for num topics: 18 ... \n",
      "modelling for num topics: 20 ... \n",
      "modelling for num topics: 22 ... \n",
      "modelling for num topics: 24 ... \n",
      "modelling for num topics: 26 ... \n",
      "modelling for num topics: 28 ... \n"
     ]
    }
   ],
   "source": [
    "# compute coherence scores for different # topics (this could take long)\n",
    "limit = 30\n",
    "start = 2\n",
    "step = 2\n",
    "model_list, coherence_values = compute_coherence_values(dictionary=id2word, corpus=corpus, texts=data_lemmatized, start=start, limit=limit, step=step)"
   ]
  },
  {
   "cell_type": "code",
   "execution_count": 81,
   "metadata": {},
   "outputs": [
    {
     "data": {
      "image/png": "[encoded data removed]",
      "text/plain": [
       "<Figure size 432x288 with 1 Axes>"
      ]
     },
     "metadata": {
      "needs_background": "light"
     },
     "output_type": "display_data"
    }
   ],
   "source": [
    "# show graph\n",
    "x = range(start, limit, step)\n",
    "plt.plot(x, coherence_values)\n",
    "plt.xlabel(\"Num Topics\")\n",
    "plt.ylabel(\"Coherence Score\")\n",
    "plt.legend((\"coherence_values\"), loc='best')\n",
    "plt.show()"
   ]
  },
  {
   "cell_type": "code",
   "execution_count": 82,
   "metadata": {},
   "outputs": [
    {
     "name": "stdout",
     "output_type": "stream",
     "text": [
      "Num topics: 2 has coherence value of 0.4822\n",
      "Num topics: 4 has coherence value of 0.5929\n",
      "Num topics: 6 has coherence value of 0.5996\n",
      "Num topics: 8 has coherence value of 0.6153\n",
      "Num topics: 10 has coherence value of 0.6064\n",
      "Num topics: 12 has coherence value of 0.6182\n",
      "Num topics: 14 has coherence value of 0.609\n",
      "Num topics: 16 has coherence value of 0.6214\n",
      "Num topics: 18 has coherence value of 0.599\n",
      "Num topics: 20 has coherence value of 0.6018\n",
      "Num topics: 22 has coherence value of 0.6127\n",
      "Num topics: 24 has coherence value of 0.6014\n",
      "Num topics: 26 has coherence value of 0.6002\n",
      "Num topics: 28 has coherence value of 0.6041\n"
     ]
    }
   ],
   "source": [
    "# print the coherence scores\n",
    "for m, cv in zip(x, coherence_values):\n",
    "    print(f\"Num topics: {m} has coherence value of {round(cv,4)}\")"
   ]
  },
  {
   "cell_type": "markdown",
   "metadata": {},
   "source": [
    "#### It seems that having 8 topics brings most marginal increase in coherence score, whereas keeping the topic model simple. (i.e. pick the model that gave the highest CV before flattening out.)"
   ]
  },
  {
   "cell_type": "code",
   "execution_count": 84,
   "metadata": {},
   "outputs": [
    {
     "name": "stdout",
     "output_type": "stream",
     "text": [
      "[(0,\n",
      "  '0.131*\"benefit\" + 0.102*\"pay\" + 0.059*\"flexible\" + 0.056*\"hour\" + '\n",
      "  '0.055*\"time\" + 0.033*\"schedule\" + 0.029*\"decent\" + 0.028*\"salary\" + '\n",
      "  '0.018*\"job\" + 0.015*\"offer\"'),\n",
      " (1,\n",
      "  '0.061*\"company\" + 0.021*\"product\" + 0.019*\"business\" + 0.016*\"client\" + '\n",
      "  '0.014*\"high\" + 0.014*\"leadership\" + 0.013*\"strong\" + 0.013*\"industry\" + '\n",
      "  '0.012*\"organization\" + 0.012*\"team\"'),\n",
      " (2,\n",
      "  '0.303*\"great\" + 0.168*\"people\" + 0.130*\"work\" + 0.060*\"nice\" + '\n",
      "  '0.050*\"place\" + 0.038*\"company\" + 0.022*\"culture\" + 0.018*\"awesome\" + '\n",
      "  '0.018*\"meet\" + 0.016*\"amazing\"'),\n",
      " (3,\n",
      "  '0.059*\"job\" + 0.032*\"easy\" + 0.032*\"free\" + 0.032*\"day\" + 0.022*\"discount\" '\n",
      "  '+ 0.022*\"office\" + 0.019*\"customer\" + 0.018*\"make\" + 0.017*\"fun\" + '\n",
      "  '0.015*\"manager\"'),\n",
      " (4,\n",
      "  '0.332*\"good\" + 0.309*\"work\" + 0.060*\"life\" + 0.050*\"balance\" + '\n",
      "  '0.026*\"culture\" + 0.022*\"home\" + 0.017*\"flexibility\" + 0.016*\"place\" + '\n",
      "  '0.015*\"environment\" + 0.014*\"company\"'),\n",
      " (5,\n",
      "  '0.044*\"company\" + 0.029*\"make\" + 0.025*\"year\" + 0.024*\"employee\" + '\n",
      "  '0.020*\"thing\" + 0.018*\"hard\" + 0.017*\"give\" + 0.016*\"manager\" + '\n",
      "  '0.015*\"feel\" + 0.014*\"position\"'),\n",
      " (6,\n",
      "  '0.085*\"environment\" + 0.054*\"team\" + 0.053*\"friendly\" + 0.051*\"employee\" + '\n",
      "  '0.047*\"management\" + 0.035*\"staff\" + 0.029*\"working\" + 0.029*\"care\" + '\n",
      "  '0.029*\"excellent\" + 0.024*\"atmosphere\"'),\n",
      " (7,\n",
      "  '0.097*\"opportunity\" + 0.082*\"lot\" + 0.054*\"learn\" + 0.046*\"experience\" + '\n",
      "  '0.034*\"training\" + 0.031*\"career\" + 0.025*\"project\" + 0.025*\"growth\" + '\n",
      "  '0.020*\"grow\" + 0.017*\"technology\"')]\n"
     ]
    }
   ],
   "source": [
    "# select the model and print the topics\n",
    "optimal_model = model_list[3]\n",
    "model_topics = optimal_model.show_topics(formatted=False)\n",
    "pprint(optimal_model.print_topics(num_words=10))"
   ]
  },
  {
   "cell_type": "markdown",
   "metadata": {},
   "source": [
    "### Find the dominant topic in each sentence"
   ]
  },
  {
   "cell_type": "code",
   "execution_count": 87,
   "metadata": {},
   "outputs": [
    {
     "data": {
      "text/html": [
       "<div>\n",
       "<style scoped>\n",
       "    .dataframe tbody tr th:only-of-type {\n",
       "        vertical-align: middle;\n",
       "    }\n",
       "\n",
       "    .dataframe tbody tr th {\n",
       "        vertical-align: top;\n",
       "    }\n",
       "\n",
       "    .dataframe thead th {\n",
       "        text-align: right;\n",
       "    }\n",
       "</style>\n",
       "<table border=\"1\" class=\"dataframe\">\n",
       "  <thead>\n",
       "    <tr style=\"text-align: right;\">\n",
       "      <th></th>\n",
       "      <th>Document_No</th>\n",
       "      <th>Dominant_Topic</th>\n",
       "      <th>Topic_Perc_Contrib</th>\n",
       "      <th>Keywords</th>\n",
       "      <th>Text</th>\n",
       "    </tr>\n",
       "  </thead>\n",
       "  <tbody>\n",
       "    <tr>\n",
       "      <th>0</th>\n",
       "      <td>0</td>\n",
       "      <td>7.0</td>\n",
       "      <td>0.1473</td>\n",
       "      <td>opportunity, lot, learn, experience, training,...</td>\n",
       "      <td>Great team, flexibility, learning, high techno...</td>\n",
       "    </tr>\n",
       "    <tr>\n",
       "      <th>1</th>\n",
       "      <td>1</td>\n",
       "      <td>2.0</td>\n",
       "      <td>0.1557</td>\n",
       "      <td>great, people, work, nice, place, company, cul...</td>\n",
       "      <td>Great company to work for</td>\n",
       "    </tr>\n",
       "    <tr>\n",
       "      <th>2</th>\n",
       "      <td>2</td>\n",
       "      <td>0.0</td>\n",
       "      <td>0.1734</td>\n",
       "      <td>benefit, pay, flexible, hour, time, schedule, ...</td>\n",
       "      <td>very Flexible schedule with good benefits</td>\n",
       "    </tr>\n",
       "    <tr>\n",
       "      <th>3</th>\n",
       "      <td>3</td>\n",
       "      <td>0.0</td>\n",
       "      <td>0.1748</td>\n",
       "      <td>benefit, pay, flexible, hour, time, schedule, ...</td>\n",
       "      <td>Great company and atmosphere. Starbucks offers...</td>\n",
       "    </tr>\n",
       "    <tr>\n",
       "      <th>4</th>\n",
       "      <td>4</td>\n",
       "      <td>7.0</td>\n",
       "      <td>0.1974</td>\n",
       "      <td>opportunity, lot, learn, experience, training,...</td>\n",
       "      <td>If you don't have any development experience t...</td>\n",
       "    </tr>\n",
       "    <tr>\n",
       "      <th>5</th>\n",
       "      <td>5</td>\n",
       "      <td>3.0</td>\n",
       "      <td>0.1525</td>\n",
       "      <td>job, easy, free, day, discount, office, custom...</td>\n",
       "      <td>- Perfect for learning basic time management a...</td>\n",
       "    </tr>\n",
       "    <tr>\n",
       "      <th>6</th>\n",
       "      <td>6</td>\n",
       "      <td>1.0</td>\n",
       "      <td>0.1384</td>\n",
       "      <td>company, product, business, client, high, lead...</td>\n",
       "      <td>The customers understand the demanding environ...</td>\n",
       "    </tr>\n",
       "    <tr>\n",
       "      <th>7</th>\n",
       "      <td>7</td>\n",
       "      <td>6.0</td>\n",
       "      <td>0.1494</td>\n",
       "      <td>environment, team, friendly, employee, managem...</td>\n",
       "      <td>Some teams management is very bad</td>\n",
       "    </tr>\n",
       "    <tr>\n",
       "      <th>8</th>\n",
       "      <td>8</td>\n",
       "      <td>5.0</td>\n",
       "      <td>0.2881</td>\n",
       "      <td>company, make, year, employee, thing, hard, gi...</td>\n",
       "      <td>I worked for walgreens for more than 18 years ...</td>\n",
       "    </tr>\n",
       "    <tr>\n",
       "      <th>9</th>\n",
       "      <td>9</td>\n",
       "      <td>0.0</td>\n",
       "      <td>0.1751</td>\n",
       "      <td>benefit, pay, flexible, hour, time, schedule, ...</td>\n",
       "      <td>organized, flexible hours and schedule, many o...</td>\n",
       "    </tr>\n",
       "  </tbody>\n",
       "</table>\n",
       "</div>"
      ],
      "text/plain": [
       "   Document_No  Dominant_Topic  Topic_Perc_Contrib  \\\n",
       "0            0             7.0              0.1473   \n",
       "1            1             2.0              0.1557   \n",
       "2            2             0.0              0.1734   \n",
       "3            3             0.0              0.1748   \n",
       "4            4             7.0              0.1974   \n",
       "5            5             3.0              0.1525   \n",
       "6            6             1.0              0.1384   \n",
       "7            7             6.0              0.1494   \n",
       "8            8             5.0              0.2881   \n",
       "9            9             0.0              0.1751   \n",
       "\n",
       "                                            Keywords  \\\n",
       "0  opportunity, lot, learn, experience, training,...   \n",
       "1  great, people, work, nice, place, company, cul...   \n",
       "2  benefit, pay, flexible, hour, time, schedule, ...   \n",
       "3  benefit, pay, flexible, hour, time, schedule, ...   \n",
       "4  opportunity, lot, learn, experience, training,...   \n",
       "5  job, easy, free, day, discount, office, custom...   \n",
       "6  company, product, business, client, high, lead...   \n",
       "7  environment, team, friendly, employee, managem...   \n",
       "8  company, make, year, employee, thing, hard, gi...   \n",
       "9  benefit, pay, flexible, hour, time, schedule, ...   \n",
       "\n",
       "                                                Text  \n",
       "0  Great team, flexibility, learning, high techno...  \n",
       "1                          Great company to work for  \n",
       "2          very Flexible schedule with good benefits  \n",
       "3  Great company and atmosphere. Starbucks offers...  \n",
       "4  If you don't have any development experience t...  \n",
       "5  - Perfect for learning basic time management a...  \n",
       "6  The customers understand the demanding environ...  \n",
       "7                  Some teams management is very bad  \n",
       "8  I worked for walgreens for more than 18 years ...  \n",
       "9  organized, flexible hours and schedule, many o...  "
      ]
     },
     "execution_count": 87,
     "metadata": {},
     "output_type": "execute_result"
    }
   ],
   "source": [
    "def format_topics_sentences(ldamodel=lda_model, corpus=corpus, texts=data):\n",
    "    # Init output\n",
    "    sent_topics_df = pd.DataFrame()\n",
    "    \n",
    "    # Get main topic in each document\n",
    "    for i, row in enumerate(ldamodel[corpus]):\n",
    "        row = sorted(row, key=lambda x: (x[1]), reverse=True)\n",
    "        # Get the dominant topic, Perc contribution and keywords for each document\n",
    "        for j, (topic_num, prop_topic) in enumerate(row):\n",
    "            if j == 0: # => dominant topic\n",
    "                wp = ldamodel.show_topic(topic_num)\n",
    "                topic_keywords = \", \".join([word for word, prop in wp])\n",
    "                sent_topics_df = sent_topics_df.append(pd.Series([int(topic_num), round(prop_topic, 4), topic_keywords]), ignore_index=True)\n",
    "            else:\n",
    "                break\n",
    "    sent_topics_df.columns = ['Dominant_Topic', 'Perc_Contribution', 'Topic_Keywords']\n",
    "    \n",
    "    # Add original text to the end of the output\n",
    "    contents = pd.Series(texts)\n",
    "    sent_topics_df = pd.concat([sent_topics_df, contents], axis=1)\n",
    "    return(sent_topics_df)\n",
    "\n",
    "df_topic_sents_keywords = format_topics_sentences(ldamodel=optimal_model, corpus=corpus, texts=data)\n",
    "\n",
    "# Format\n",
    "df_dominant_topic = df_topic_sents_keywords.reset_index()\n",
    "df_dominant_topic.columns=['Document_No', 'Dominant_Topic', 'Topic_Perc_Contrib', 'Keywords', 'Text']\n",
    "\n",
    "# Show\n",
    "df_dominant_topic.head(10)"
   ]
  },
  {
   "cell_type": "markdown",
   "metadata": {},
   "source": [
    "### Find the most representative document for each topic"
   ]
  },
  {
   "cell_type": "code",
   "execution_count": 88,
   "metadata": {},
   "outputs": [
    {
     "data": {
      "text/html": [
       "<div>\n",
       "<style scoped>\n",
       "    .dataframe tbody tr th:only-of-type {\n",
       "        vertical-align: middle;\n",
       "    }\n",
       "\n",
       "    .dataframe tbody tr th {\n",
       "        vertical-align: top;\n",
       "    }\n",
       "\n",
       "    .dataframe thead th {\n",
       "        text-align: right;\n",
       "    }\n",
       "</style>\n",
       "<table border=\"1\" class=\"dataframe\">\n",
       "  <thead>\n",
       "    <tr style=\"text-align: right;\">\n",
       "      <th></th>\n",
       "      <th>Topic_Num</th>\n",
       "      <th>Topic_Perc_Contrib</th>\n",
       "      <th>Keywords</th>\n",
       "      <th>Text</th>\n",
       "    </tr>\n",
       "  </thead>\n",
       "  <tbody>\n",
       "    <tr>\n",
       "      <th>0</th>\n",
       "      <td>0.0</td>\n",
       "      <td>0.3611</td>\n",
       "      <td>benefit, pay, flexible, hour, time, schedule, ...</td>\n",
       "      <td>-Great health system.\\n-Magnet status designat...</td>\n",
       "    </tr>\n",
       "    <tr>\n",
       "      <th>1</th>\n",
       "      <td>1.0</td>\n",
       "      <td>0.4602</td>\n",
       "      <td>company, product, business, client, high, lead...</td>\n",
       "      <td>Derse is one of the most exciting and dynamic ...</td>\n",
       "    </tr>\n",
       "    <tr>\n",
       "      <th>2</th>\n",
       "      <td>2.0</td>\n",
       "      <td>0.6156</td>\n",
       "      <td>great, people, work, nice, place, company, cul...</td>\n",
       "      <td>Het is een job met uitdaging. elke dag is een ...</td>\n",
       "    </tr>\n",
       "    <tr>\n",
       "      <th>3</th>\n",
       "      <td>3.0</td>\n",
       "      <td>0.4663</td>\n",
       "      <td>job, easy, free, day, discount, office, custom...</td>\n",
       "      <td>(In Tokyo main office)\\n1 Free breakfast, Lunc...</td>\n",
       "    </tr>\n",
       "    <tr>\n",
       "      <th>4</th>\n",
       "      <td>4.0</td>\n",
       "      <td>0.2700</td>\n",
       "      <td>good, work, life, balance, culture, home, flex...</td>\n",
       "      <td>Very good copmany to wok .Good work life balan...</td>\n",
       "    </tr>\n",
       "  </tbody>\n",
       "</table>\n",
       "</div>"
      ],
      "text/plain": [
       "   Topic_Num  Topic_Perc_Contrib  \\\n",
       "0        0.0              0.3611   \n",
       "1        1.0              0.4602   \n",
       "2        2.0              0.6156   \n",
       "3        3.0              0.4663   \n",
       "4        4.0              0.2700   \n",
       "\n",
       "                                            Keywords  \\\n",
       "0  benefit, pay, flexible, hour, time, schedule, ...   \n",
       "1  company, product, business, client, high, lead...   \n",
       "2  great, people, work, nice, place, company, cul...   \n",
       "3  job, easy, free, day, discount, office, custom...   \n",
       "4  good, work, life, balance, culture, home, flex...   \n",
       "\n",
       "                                                Text  \n",
       "0  -Great health system.\\n-Magnet status designat...  \n",
       "1  Derse is one of the most exciting and dynamic ...  \n",
       "2  Het is een job met uitdaging. elke dag is een ...  \n",
       "3  (In Tokyo main office)\\n1 Free breakfast, Lunc...  \n",
       "4  Very good copmany to wok .Good work life balan...  "
      ]
     },
     "execution_count": 88,
     "metadata": {},
     "output_type": "execute_result"
    }
   ],
   "source": [
    "# group top 5 sentences under each topic\n",
    "sent_topics_sorteddf_mallet = pd.DataFrame()\n",
    "sent_topics_outdf_grpd = df_topic_sents_keywords.groupby('Dominant_Topic')\n",
    "for i, grp in sent_topics_outdf_grpd:\n",
    "    sent_topics_sorteddf_mallet = pd.concat([sent_topics_sorteddf_mallet,\n",
    "                                            grp.sort_values(['Perc_Contribution'], ascending=[0]).head(1)],\n",
    "                                           axis=0)\n",
    "    \n",
    "# reset index\n",
    "sent_topics_sorteddf_mallet.reset_index(drop=True, inplace=True)\n",
    "\n",
    "# format\n",
    "sent_topics_sorteddf_mallet.columns=['Topic_Num', 'Topic_Perc_Contrib', \"Keywords\", \"Text\"]\n",
    "\n",
    "# show\n",
    "sent_topics_sorteddf_mallet.head()"
   ]
  },
  {
   "cell_type": "markdown",
   "metadata": {},
   "source": [
    "### Topic distribution across documents"
   ]
  },
  {
   "cell_type": "code",
   "execution_count": 100,
   "metadata": {},
   "outputs": [
    {
     "data": {
      "text/html": [
       "<div>\n",
       "<style scoped>\n",
       "    .dataframe tbody tr th:only-of-type {\n",
       "        vertical-align: middle;\n",
       "    }\n",
       "\n",
       "    .dataframe tbody tr th {\n",
       "        vertical-align: top;\n",
       "    }\n",
       "\n",
       "    .dataframe thead th {\n",
       "        text-align: right;\n",
       "    }\n",
       "</style>\n",
       "<table border=\"1\" class=\"dataframe\">\n",
       "  <thead>\n",
       "    <tr style=\"text-align: right;\">\n",
       "      <th></th>\n",
       "      <th>Dominant_Topic</th>\n",
       "      <th>Topic_Keywords</th>\n",
       "      <th>Num_Documents</th>\n",
       "      <th>Perc_Documents</th>\n",
       "    </tr>\n",
       "  </thead>\n",
       "  <tbody>\n",
       "    <tr>\n",
       "      <th>0.0</th>\n",
       "      <td>7.0</td>\n",
       "      <td>opportunity, lot, learn, experience, training,...</td>\n",
       "      <td>32466</td>\n",
       "      <td>0.1672</td>\n",
       "    </tr>\n",
       "    <tr>\n",
       "      <th>1.0</th>\n",
       "      <td>2.0</td>\n",
       "      <td>great, people, work, nice, place, company, cul...</td>\n",
       "      <td>22651</td>\n",
       "      <td>0.1167</td>\n",
       "    </tr>\n",
       "    <tr>\n",
       "      <th>2.0</th>\n",
       "      <td>0.0</td>\n",
       "      <td>benefit, pay, flexible, hour, time, schedule, ...</td>\n",
       "      <td>24663</td>\n",
       "      <td>0.1270</td>\n",
       "    </tr>\n",
       "    <tr>\n",
       "      <th>3.0</th>\n",
       "      <td>0.0</td>\n",
       "      <td>benefit, pay, flexible, hour, time, schedule, ...</td>\n",
       "      <td>23142</td>\n",
       "      <td>0.1192</td>\n",
       "    </tr>\n",
       "    <tr>\n",
       "      <th>4.0</th>\n",
       "      <td>7.0</td>\n",
       "      <td>opportunity, lot, learn, experience, training,...</td>\n",
       "      <td>24795</td>\n",
       "      <td>0.1277</td>\n",
       "    </tr>\n",
       "    <tr>\n",
       "      <th>5.0</th>\n",
       "      <td>3.0</td>\n",
       "      <td>job, easy, free, day, discount, office, custom...</td>\n",
       "      <td>17733</td>\n",
       "      <td>0.0913</td>\n",
       "    </tr>\n",
       "    <tr>\n",
       "      <th>6.0</th>\n",
       "      <td>1.0</td>\n",
       "      <td>company, product, business, client, high, lead...</td>\n",
       "      <td>23463</td>\n",
       "      <td>0.1208</td>\n",
       "    </tr>\n",
       "    <tr>\n",
       "      <th>7.0</th>\n",
       "      <td>6.0</td>\n",
       "      <td>environment, team, friendly, employee, managem...</td>\n",
       "      <td>25237</td>\n",
       "      <td>0.1300</td>\n",
       "    </tr>\n",
       "  </tbody>\n",
       "</table>\n",
       "</div>"
      ],
      "text/plain": [
       "     Dominant_Topic                                     Topic_Keywords  \\\n",
       "0.0             7.0  opportunity, lot, learn, experience, training,...   \n",
       "1.0             2.0  great, people, work, nice, place, company, cul...   \n",
       "2.0             0.0  benefit, pay, flexible, hour, time, schedule, ...   \n",
       "3.0             0.0  benefit, pay, flexible, hour, time, schedule, ...   \n",
       "4.0             7.0  opportunity, lot, learn, experience, training,...   \n",
       "5.0             3.0  job, easy, free, day, discount, office, custom...   \n",
       "6.0             1.0  company, product, business, client, high, lead...   \n",
       "7.0             6.0  environment, team, friendly, employee, managem...   \n",
       "\n",
       "     Num_Documents  Perc_Documents  \n",
       "0.0          32466          0.1672  \n",
       "1.0          22651          0.1167  \n",
       "2.0          24663          0.1270  \n",
       "3.0          23142          0.1192  \n",
       "4.0          24795          0.1277  \n",
       "5.0          17733          0.0913  \n",
       "6.0          23463          0.1208  \n",
       "7.0          25237          0.1300  "
      ]
     },
     "execution_count": 100,
     "metadata": {},
     "output_type": "execute_result"
    }
   ],
   "source": [
    "# Number of Documents for Each Topic\n",
    "topic_counts = df_topic_sents_keywords['Dominant_Topic'].value_counts()\n",
    "\n",
    "# Percentage of Documents for Each Topic\n",
    "topic_contribution = round(topic_counts/topic_counts.sum(), 4)\n",
    "\n",
    "# Topic Number and Keywords\n",
    "topic_num_keywords = df_topic_sents_keywords[['Dominant_Topic', 'Topic_Keywords']]\n",
    "\n",
    "# Concatenate Column wise\n",
    "df_dominant_topics = pd.concat([topic_num_keywords, topic_counts, topic_contribution], axis=1, join='inner')\n",
    "\n",
    "# Change Column names\n",
    "df_dominant_topics.columns = ['Dominant_Topic', 'Topic_Keywords', 'Num_Documents', 'Perc_Documents']\n",
    "\n",
    "# Show\n",
    "df_dominant_topics"
   ]
  },
  {
   "cell_type": "markdown",
   "metadata": {},
   "source": [
    "### visualize the topics"
   ]
  },
  {
   "cell_type": "code",
   "execution_count": 102,
   "metadata": {},
   "outputs": [
    {
     "name": "stderr",
     "output_type": "stream",
     "text": [
      "/Users/chengchen/opt/anaconda3/envs/cc_nlp/lib/python3.8/site-packages/pyLDAvis/_prepare.py:223: RuntimeWarning: divide by zero encountered in log\n",
      "  kernel = (topic_given_term * np.log((topic_given_term.T / topic_proportion).T))\n",
      "/Users/chengchen/opt/anaconda3/envs/cc_nlp/lib/python3.8/site-packages/pyLDAvis/_prepare.py:240: RuntimeWarning: divide by zero encountered in log\n",
      "  log_lift = np.log(topic_term_dists / term_proportion)\n",
      "/Users/chengchen/opt/anaconda3/envs/cc_nlp/lib/python3.8/site-packages/pyLDAvis/_prepare.py:241: RuntimeWarning: divide by zero encountered in log\n",
      "  log_ttd = np.log(topic_term_dists)\n"
     ]
    },
    {
     "data": {
      "text/html": [
       "\n",
       "<link rel=\"stylesheet\" type=\"text/css\" href=\"https://cdn.rawgit.com/bmabey/pyLDAvis/files/ldavis.v1.0.0.css\">\n",
       "\n",
       "\n",
       "<div id=\"ldavis_el35171404638451296802833052181\"></div>\n",
       "<script type=\"text/javascript\">\n",
       "\n",
       "var ldavis_el35171404638451296802833052181_data = {\"mdsDat\": {\"x\": [-0.14463139234182348, -0.05751765750807746, -0.1855467221229934, -0.1495386912133098, -0.02995117422332948, -0.09948180891321047, 0.3279564372485759, 0.3387110090741677], \"y\": [0.048617958643061426, 0.2333440910095116, -0.20959399906954942, 0.2320474738524977, 0.05097708428073493, -0.3156945529672941, 0.015731778767168886, -0.055429834516131274], \"topics\": [1, 2, 3, 4, 5, 6, 7, 8], \"cluster\": [1, 1, 1, 1, 1, 1, 1, 1], \"Freq\": [13.56110518711095, 13.2116696175342, 12.709443064686576, 12.495585758164946, 12.132570644905869, 12.06625593371206, 11.926637467529682, 11.89673232635572]}, \"tinfo\": {\"Term\": [\"good\", \"work\", \"great\", \"people\", \"benefit\", \"pay\", \"opportunity\", \"lot\", \"environment\", \"company\", \"life\", \"flexible\", \"job\", \"nice\", \"hour\", \"learn\", \"friendly\", \"time\", \"team\", \"employee\", \"balance\", \"place\", \"experience\", \"management\", \"staff\", \"make\", \"schedule\", \"training\", \"easy\", \"free\", \"cut_throat\", \"gauge\", \"assess\", \"enter\", \"fro\", \"fight\", \"youa\", \"sword\", \"confine\", \"memory\", \"visa\", \"residual_income\", \"lawsuit\", \"sarah\", \"surprise\", \"absolutely\", \"dime\", \"verse\", \"preferred\", \"chop\", \"impose\", \"yellow\", \"unfortunate\", \"timesheet\", \"coming\", \"curse\", \"america_works\", \"hiccup\", \"surpass\", \"back\", \"year\", \"thing\", \"feel\", \"position\", \"pro\", \"long\", \"find\", \"hire\", \"leave\", \"treat\", \"month\", \"put\", \"stay\", \"end\", \"person\", \"understand\", \"hr\", \"reason\", \"expect\", \"issue\", \"number\", \"call\", \"join\", \"review\", \"contract\", \"due\", \"listen\", \"state\", \"point\", \"promote\", \"run\", \"quickly\", \"show\", \"hard\", \"receive\", \"give\", \"succeed\", \"make\", \"extremely\", \"start\", \"manager\", \"company\", \"bad\", \"employee\", \"sale\", \"department\", \"management\", \"happy\", \"move\", \"tudiant\", \"ls\", \"dishearten\", \"piir\", \"emerson\", \"fusion\", \"entitle\", \"reassign\", \"crowded\", \"technologically\", \"atoe\", \"ersten\", \"boutique\", \"arch\", \"commion\", \"excom\", \"chainew\", \"legitimately\", \"meaningless\", \"samsung\", \"mckinsey\", \"educationfund\", \"groupwork\", \"proyect\", \"holistic\", \"becausea\", \"shrink\", \"ameriprise\", \"bondind\", \"astounding\", \"product\", \"business\", \"client\", \"leadership\", \"strong\", \"organization\", \"level\", \"focus\", \"brand\", \"process\", \"market\", \"leader\", \"drive\", \"quality\", \"top\", \"lead\", \"improve\", \"idea\", \"create\", \"individual\", \"communication\", \"exciting\", \"innovative\", \"performance\", \"success\", \"highly\", \"firm\", \"talent\", \"impact\", \"line\", \"passionate\", \"service\", \"solid\", \"high\", \"industry\", \"company\", \"change\", \"large\", \"big\", \"global\", \"system\", \"support\", \"team\", \"world\", \"open\", \"culture\", \"agra\", \"sensor\", \"vindictiveness\", \"kubota\", \"cook\", \"pandora\", \"wtih\", \"bed\", \"icahn\", \"butter\", \"busied\", \"usgs\", \"elpe\", \"troughout\", \"breads\", \"whittington\", \"angebot\", \"friday\", \"pop\", \"slushee\", \"thoughworks\", \"peru\", \"methodologie\", \"representatives\", \"incorporate\", \"nelnet\", \"kirkland\", \"clean_bathrooms\", \"rumors\", \"citydisc\", \"easy\", \"free\", \"discount\", \"day\", \"money\", \"student\", \"food\", \"store\", \"school\", \"kid\", \"shift\", \"friend\", \"college\", \"event\", \"lunch\", \"site\", \"close\", \"busy\", \"teach\", \"gym\", \"associate\", \"retail\", \"summer\", \"sell\", \"task\", \"break\", \"extra\", \"cafeteria\", \"coffee\", \"city\", \"class\", \"boss\", \"job\", \"office\", \"customer\", \"part\", \"pretty\", \"love\", \"fun\", \"manager\", \"make\", \"perk\", \"location\", \"time\", \"enjoy\", \"coworker\", \"apprasial\", \"iss\", \"danaher\", \"form_partnerships\", \"adamant\", \"comma\", \"mortgagea\", \"accumulative\", \"prepares\", \"costar\", \"nixdorf\", \"migration\", \"cms\", \"wrathful\", \"progronose\", \"retribution\", \"stow\", \"subsystem\", \"usf\", \"hii\", \"attraktiven\", \"reebok\", \"dignify\", \"maitenance\", \"logos\", \"gtas\", \"melting_pot\", \"suffecient\", \"proctor\", \"hitachi\", \"opportunity\", \"lot\", \"learn\", \"career\", \"project\", \"growth\", \"technology\", \"development\", \"experience\", \"skill\", \"learning\", \"room\", \"travel\", \"exposure\", \"plenty\", \"advancement\", \"develop\", \"intern\", \"gain\", \"diverse\", \"international\", \"knowledge\", \"chance\", \"network\", \"technical\", \"variety\", \"multiple\", \"resource\", \"internal\", \"country\", \"program\", \"research\", \"training\", \"grow\", \"provide\", \"move\", \"professional\", \"challenge\", \"interesting\", \"area\", \"groupe_international\", \"bride\", \"boys_club\", \"secteur\", \"petit\", \"novice\", \"ramsey\", \"ab\", \"settling\", \"encadrement\", \"shady\", \"unlimited_earning\", \"kind_hearte\", \"beneift\", \"jumia\", \"uw\", \"caseload\", \"liability\", \"earnest\", \"choix\", \"illiterate\", \"bennefit\", \"shift_rotation\", \"pression\", \"activita\", \"possibilita\", \"tickets\", \"patients\", \"remboursement\", \"grand_groupe\", \"friendly\", \"staff\", \"working\", \"atmosphere\", \"family\", \"community\", \"excellent\", \"helpful\", \"member\", \"supportive\", \"wonderful\", \"mission\", \"fast_pace\", \"child\", \"orient\", \"relationship\", \"laid_back\", \"patient\", \"care\", \"activity\", \"membership\", \"rewarding\", \"social\", \"serve\", \"workplace\", \"ymca\", \"teamwork\", \"relaxed\", \"relax\", \"understanding\", \"veteran\", \"environment\", \"positive\", \"team\", \"management\", \"employee\", \"colleague\", \"supervisor\", \"co_workers\", \"coworker\", \"fun\", \"support\", \"love\", \"enjoy\", \"great\", \"wf\", \"vitality\", \"exempt\", \"automatic\", \"paying\", \"considerably\", \"three_weeks\", \"chase\", \"redundancy\", \"active_duty\", \"tracking\", \"adjustable\", \"predefine\", \"bros\", \"railroad_retirement\", \"martha\", \"vacay\", \"interviwed\", \"columbus_circle\", \"ambivalence\", \"sbms\", \"general_counsel\", \"mcconachy\", \"tage\", \"slow_season\", \"oceanfront\", \"bubba\", \"ammenitie\", \"amazimg\", \"palliative\", \"benefit\", \"pay\", \"flexible\", \"hour\", \"schedule\", \"decent\", \"competitive\", \"vacation\", \"bonus\", \"full\", \"health\", \"holiday\", \"pto\", \"insurance\", \"package\", \"include\", \"fair\", \"stable\", \"security\", \"plan\", \"overtime\", \"average\", \"match\", \"medical\", \"low\", \"incentive\", \"fairly\", \"reasonable\", \"health_insurance\", \"generous\", \"salary\", \"time\", \"offer\", \"week\", \"option\", \"compensation\", \"job\", \"base\", \"good\", \"frey\", \"bracknell\", \"retira\", \"hilfe\", \"allerdings\", \"helpe\", \"sobour\", \"costomize\", \"underline\", \"gmc\", \"trns\", \"crapshoot\", \"altogether\", \"excersise\", \"amusing\", \"selector\", \"chemist\", \"healthier\", \"traject\", \"opleiding\", \"dit\", \"deduct\", \"stillwater\", \"stray\", \"converge\", \"boundarie\", \"milticultural\", \"powell\", \"einf\", \"bbh\", \"people\", \"awesome\", \"meet\", \"smart\", \"cool\", \"fantastic\", \"super\", \"great\", \"alot\", \"foot\", \"talente\", \"nice\", \"vibe\", \"teammate\", \"hardworking\", \"und\", \"die\", \"gute\", \"sehr\", \"hat\", \"op\", \"fabulous\", \"je\", \"veel\", \"goede\", \"viele\", \"cv\", \"der\", \"een\", \"het\", \"upward_mobility\", \"friendship\", \"place\", \"surround\", \"amazing\", \"group\", \"resume\", \"work\", \"culture\", \"talented\", \"interesting\", \"company\", \"location\", \"co_workers\", \"perk\", \"office\", \"door\", \"intelligent\", \"young\", \"hard\", \"thomson_reuter\", \"skyhorse\", \"opportunitite\", \"young_crowd\", \"write_word\", \"dod\", \"cincinnati\", \"german\", \"opportunie\", \"york\", \"flooding\", \"sparefoot\", \"adaptive\", \"repute\", \"exposer\", \"onsite_oppurtunitie\", \"wfm\", \"ontime\", \"strict_rules\", \"cognizant\", \"diploma\", \"aricent\", \"variable_payout\", \"payscale\", \"bundle\", \"goood\", \"minus\", \"greenfield\", \"ambient\", \"env\", \"life\", \"balance\", \"home\", \"flexibility\", \"good\", \"pressure\", \"timing\", \"onsite\", \"fresher\", \"infrastructure\", \"load\", \"remote\", \"brand_name\", \"remotely\", \"enviroment\", \"hike\", \"transport\", \"wfh\", \"cab\", \"accenture\", \"hcl\", \"appraisal\", \"overseas\", \"hr_policies\", \"mnc\", \"enviornment\", \"balanced\", \"superb\", \"latest_technologie\", \"canteen\", \"siemens\", \"work\", \"policy\", \"ethic\", \"depend\", \"facility\", \"culture\", \"carrier\", \"peer\", \"place\", \"independently\", \"environment\", \"company\", \"compensation\", \"colleague\", \"salary\", \"nice\", \"structure\"], \"Freq\": [85744.0, 109422.0, 79598.0, 41916.0, 33210.0, 25897.0, 25346.0, 21426.0, 25356.0, 42381.0, 15069.0, 14979.0, 20120.0, 15550.0, 14128.0, 14187.0, 13361.0, 16848.0, 17003.0, 21419.0, 12403.0, 16424.0, 12167.0, 14901.0, 8777.0, 13015.0, 8329.0, 9549.0, 8497.0, 8434.0, 10.22367095602555, 10.22367095602555, 20.4473419120511, 163.5787352964088, 10.22367095602555, 110.18845363716427, 81.7893676482044, 10.22367095602555, 10.22367095602555, 73.83762357129564, 81.7893676482044, 10.22367095602555, 20.4473419120511, 10.22367095602555, 73.83762357129564, 530.4949262737703, 20.4473419120511, 20.4473419120511, 10.22367095602555, 10.22367095602555, 10.22367095602555, 10.22367095602555, 20.4473419120511, 20.4473419120511, 10.22367095602555, 10.22367095602555, 20.4473419120511, 10.22367095602555, 20.4473419120511, 1308.6298823712705, 7240.630963745207, 5543.501585044965, 4291.669874651615, 4075.83682113552, 3650.98649474068, 3246.5835102578917, 2650.2027044897345, 2449.137175687899, 2231.032195292687, 1864.1160043153257, 1830.0371011285738, 1727.8003915683182, 1650.5548776783473, 1308.6298823712705, 1202.9852824923398, 1201.8493190527815, 1104.1564632507595, 1016.6872784047632, 1007.599570888296, 961.0250698664019, 954.2092892290514, 934.8979107565588, 872.4199215808471, 831.5252377567449, 789.4945904930843, 747.4639432294236, 723.6087109986973, 714.5210034822302, 708.8411862844382, 1795.958197941822, 1179.1300502616134, 1212.072990008807, 1028.0469128003472, 5237.927419803757, 940.5777279543507, 4877.827009463746, 1040.5425106354894, 8230.055119600569, 1379.059615623891, 3479.456015367363, 4588.156332376356, 12631.913447889348, 1559.6778025136757, 6826.004308306394, 2112.891997578614, 1809.5897592165225, 2864.899794566271, 1327.9412608437633, 1321.125480206413, 1.1010138091726511, 1.1010138091726511, 3.3030414275179534, 1.1010138091726511, 22.020276183453024, 5.505069045863256, 19.81824856510772, 2.2020276183453023, 7.707096664208558, 18.717234755935067, 1.1010138091726511, 3.3030414275179534, 15.414193328417117, 3.3030414275179534, 1.1010138091726511, 1.1010138091726511, 1.1010138091726511, 15.414193328417117, 3.3030414275179534, 22.020276183453024, 6.606082855035907, 1.1010138091726511, 1.1010138091726511, 3.3030414275179534, 17.616220946762418, 1.1010138091726511, 12.111151900899163, 3.3030414275179534, 1.1010138091726511, 9.90912428255386, 5811.150884813253, 5163.754765019734, 4302.7619662467205, 3855.750359722624, 3696.1033573925897, 3447.274236519571, 3138.9903699512283, 2919.888621925871, 2455.260794455012, 2374.8867863854084, 2156.8860521692236, 2118.350568848181, 2039.07757458775, 1941.087345571384, 1909.157945105377, 1496.277766665633, 1644.9146309039406, 1402.6915928859576, 1316.8125157704908, 1677.9450451791204, 1251.8527010293044, 1215.5192453266068, 1131.8421958294853, 1093.3067125084426, 1083.3975882258885, 1062.4783258516084, 1049.2661601415366, 1092.20569869927, 1074.5894777525075, 920.4475444683363, 1038.25602204981, 2718.4030948472755, 1398.287537649267, 3914.1040916087745, 3670.7800397816186, 16769.54132750865, 2540.038857761306, 2425.53342160735, 2632.5240177318087, 1789.147439905558, 1510.5909461848773, 2152.481996932533, 3388.9205046334205, 1675.7430175607751, 1625.096382338833, 1714.2785008818178, 1.1292457502631856, 2.2584915005263713, 1.1292457502631856, 1.1292457502631856, 73.40097376710706, 4.5169830010527425, 1.1292457502631856, 36.13586400842194, 1.1292457502631856, 12.42170325289504, 1.1292457502631856, 1.1292457502631856, 1.1292457502631856, 1.1292457502631856, 1.1292457502631856, 1.1292457502631856, 1.1292457502631856, 628.9898828965944, 73.40097376710706, 1.1292457502631856, 1.1292457502631856, 4.5169830010527425, 1.1292457502631856, 1.1292457502631856, 28.231143756579637, 1.1292457502631856, 2.2584915005263713, 9.033966002105485, 1.1292457502631856, 1.1292457502631856, 8497.574270730473, 8434.336508715733, 5947.737366636198, 8427.561034214154, 3417.0976402963997, 3380.961776287978, 3324.4994887748185, 2984.5965179455998, 2740.6794358887514, 2347.701914797163, 1981.826291711891, 1816.9564121734657, 1783.07903966557, 1979.5678002113643, 1589.9780163705652, 1457.8562635897727, 1455.5977720892463, 1346.060934313717, 1317.8297905571378, 1282.823172298979, 1228.6193762863459, 1220.7146560345036, 1161.993877020818, 1115.6948012600274, 1009.5457007352879, 933.8862354676545, 880.8116852052848, 842.4173296963365, 774.6625846805454, 753.2069154255448, 1283.952418049242, 1281.6939265487156, 15675.06025940328, 5840.459020361195, 5133.551180696441, 3865.408203150884, 2715.8360293829614, 3856.3742371487792, 4478.588645543794, 4055.1214891950995, 4785.74348961538, 1723.2290149016212, 2195.253738511633, 2964.270094440862, 1675.8006933905674, 1554.9713981124066, 1.0991271114776258, 7.69388978034338, 3.297381334432877, 9.892144003298633, 1.0991271114776258, 6.594762668865754, 1.0991271114776258, 1.0991271114776258, 1.0991271114776258, 1.0991271114776258, 2.1982542229552515, 4.396508445910503, 10.991271114776257, 1.0991271114776258, 1.0991271114776258, 1.0991271114776258, 1.0991271114776258, 1.0991271114776258, 1.0991271114776258, 1.0991271114776258, 1.0991271114776258, 2.1982542229552515, 1.0991271114776258, 1.0991271114776258, 1.0991271114776258, 1.0991271114776258, 13.189525337731508, 1.0991271114776258, 3.297381334432877, 5.495635557388129, 25346.97031778553, 21426.383911144836, 14187.532754953192, 8237.957700524805, 6588.167906196889, 6481.5525763835585, 4323.966056552979, 4061.274676909827, 12033.243616457046, 3608.434306981045, 2844.5409645040954, 2771.9985751465724, 2656.5902284414215, 2571.957440857644, 2165.2804096109226, 3159.990445498174, 1987.2218175515472, 1932.265461977666, 1847.632674393889, 1727.8278192428277, 1692.6557516755436, 1780.5859205937536, 1833.3440219446795, 1500.308507166959, 1270.5909408681352, 1169.4712466121937, 1092.53234880876, 1879.5073606267401, 988.1152732183855, 971.6283665462211, 4170.088260946112, 1157.3808483859398, 8945.795560316397, 5147.2122630497215, 3576.5596207481944, 2979.7335992158437, 3076.4567850258745, 2055.3676984631597, 2113.621435371474, 1934.4637162006213, 7.8457901829480745, 14.570753196903567, 11.20827168992582, 11.20827168992582, 7.8457901829480745, 5.60413584496291, 3.362481506977746, 6.724963013955492, 3.362481506977746, 14.570753196903567, 7.8457901829480745, 6.724963013955492, 3.362481506977746, 3.362481506977746, 3.362481506977746, 7.8457901829480745, 14.570753196903567, 6.724963013955492, 3.362481506977746, 3.362481506977746, 3.362481506977746, 6.724963013955492, 14.570753196903567, 5.60413584496291, 5.60413584496291, 5.60413584496291, 7.8457901829480745, 6.724963013955492, 14.570753196903567, 19.054061872873895, 13353.534891377622, 8777.197560380911, 7313.397277676599, 6209.382516218904, 5873.134365521129, 3959.8823880507925, 7276.409981099842, 3902.720202432171, 3343.4274451048723, 3096.845467926504, 2848.021836410151, 2183.3713251975496, 1795.5651247261164, 1642.0118025741328, 1548.9831475477483, 1526.566604167897, 1511.9958509709932, 1416.7255416066237, 7302.189005986672, 1388.7048623818093, 1256.4472564406844, 1158.9352927383297, 1047.9734030080642, 1016.590242276272, 1013.2277607692943, 914.594969897947, 831.6537593924959, 996.4153532344055, 774.4915737738742, 743.1084130420819, 777.854055280852, 21653.260077767693, 3103.5704309404596, 13611.325140245915, 12036.56296781134, 13082.294716481418, 3044.166590983853, 1534.4123943508448, 3633.721681873951, 3649.413262239847, 5057.17218649453, 2730.33498366593, 2341.407956025504, 1830.3107669648866, 3800.724930053846, 33.25888392484824, 16.62944196242412, 33.25888392484824, 16.62944196242412, 16.62944196242412, 16.62944196242412, 33.25888392484824, 66.51776784969648, 16.62944196242412, 16.62944196242412, 16.62944196242412, 16.62944196242412, 1.1086294641616081, 2.2172589283232162, 3.325888392484824, 1.1086294641616081, 6.651776784969648, 1.1086294641616081, 9.977665177454472, 1.1086294641616081, 1.1086294641616081, 6.651776784969648, 1.1086294641616081, 3.325888392484824, 12.19492410577769, 1.1086294641616081, 1.1086294641616081, 1.1086294641616081, 1.1086294641616081, 1.1086294641616081, 33210.10422842513, 25897.584282815165, 14979.801319751648, 14077.3769359241, 8329.133164246161, 7390.124008101279, 3423.4477853310455, 3355.8213880171875, 3309.2589505224, 3026.5584371611903, 2944.519856813231, 2022.1401426307732, 1861.38887032734, 1791.5452140851585, 2070.9198390538836, 1754.9604417678256, 1751.6345533753408, 1686.2254149898058, 1671.813231955705, 2028.7919194157428, 1550.9726203620896, 1499.9756650106556, 1340.333022171384, 1270.489365929203, 1197.3198212945367, 1182.9076382604358, 1077.587839165083, 1075.37058023676, 927.922861503266, 993.3319998888007, 7119.6184188458465, 13884.475409159979, 3764.9056602928213, 2363.5980175925483, 1613.0558703551399, 2151.849789937681, 4445.604151288048, 1618.5990176759478, 2977.7787407380793, 1.116967422205196, 1.116967422205196, 1.116967422205196, 3.350902266615588, 2.233934844410392, 1.116967422205196, 1.116967422205196, 1.116967422205196, 1.116967422205196, 1.116967422205196, 1.116967422205196, 1.116967422205196, 5.58483711102598, 1.116967422205196, 4.467869688820784, 3.350902266615588, 2.233934844410392, 3.350902266615588, 1.116967422205196, 3.350902266615588, 7.818771955436371, 10.052706799846764, 1.116967422205196, 2.233934844410392, 2.233934844410392, 3.350902266615588, 1.116967422205196, 1.116967422205196, 3.350902266615588, 1.116967422205196, 41916.436453094386, 4404.202545755088, 4401.968610910677, 3346.434396926767, 1921.183966192937, 1847.4641163273939, 976.2295270073412, 75797.4092708446, 529.4425581252628, 346.2599008836107, 330.622356972738, 14928.269597772443, 230.09528897427035, 227.86135412985996, 226.74438670765477, 294.87939946217176, 189.8844617748833, 163.0772436419586, 156.37543910872742, 132.9191232424183, 119.51551417595596, 115.04764448713517, 111.6967422205196, 106.1119051094936, 102.76100284287803, 97.17616573185204, 86.00649150980009, 82.6555892431845, 81.5386218209793, 80.42165439877411, 249.0837351517587, 263.60431164042626, 12402.806256166496, 388.70466292740815, 3963.000413984035, 1856.3998557050356, 702.5725085670682, 32464.658126394017, 5499.947586938385, 755.0699774107123, 1611.7839902420976, 9411.56749950098, 1945.7572494814513, 1404.028049711931, 864.5327847868216, 1096.8620086055023, 328.3884221283276, 364.13137963889386, 311.6339107952497, 307.16604110642885, 25.385603501250465, 5.518609456793579, 9.933497022228444, 19.866994044456888, 9.933497022228444, 5.518609456793579, 11.037218913587157, 33.111656740761475, 16.555828370380738, 5.518609456793579, 5.518609456793579, 5.518609456793579, 23.17815971853303, 45.252597545707346, 7.72605323951101, 9.933497022228444, 5.518609456793579, 5.518609456793579, 9.933497022228444, 32.00793484940276, 9.933497022228444, 9.933497022228444, 5.518609456793579, 16.555828370380738, 7.72605323951101, 11.037218913587157, 9.933497022228444, 7.72605323951101, 16.555828370380738, 64.01586969880552, 15069.114982720548, 12403.626615089248, 5412.652155223143, 4284.648382254535, 82767.00091109874, 1090.477228662411, 962.4454892648002, 853.1770220202874, 843.243524998059, 677.6852412942515, 559.586998918869, 501.089738676857, 418.31059682495334, 333.32401119033216, 412.79198736815977, 408.37709980272484, 278.1379166223964, 220.7443782717432, 183.21783396554684, 172.18061505195968, 152.31362100750277, 142.38012398527434, 142.38012398527434, 140.17268020255693, 139.0689583111982, 133.5503488544046, 133.5503488544046, 132.4466269630459, 130.2391831803285, 128.03173939761103, 152.31362100750277, 76958.11259687784, 1587.1520797738333, 698.6559572300672, 1424.9049617441021, 1785.8220202184023, 6451.254454991695, 158.9359523556551, 515.4381232645204, 4019.7551283284433, 237.3002066421239, 3701.883223617133, 3568.3328747627284, 821.1690871708846, 820.065365279526, 530.8902297435424, 622.4991467263158, 342.1537863212019], \"Total\": [85744.0, 109422.0, 79598.0, 41916.0, 33210.0, 25897.0, 25346.0, 21426.0, 25356.0, 42381.0, 15069.0, 14979.0, 20120.0, 15550.0, 14128.0, 14187.0, 13361.0, 16848.0, 17003.0, 21419.0, 12403.0, 16424.0, 12167.0, 14901.0, 8777.0, 13015.0, 8329.0, 9549.0, 8497.0, 8434.0, 10.22367095602555, 10.22367095602555, 20.4473419120511, 163.5787352964088, 10.22367095602555, 110.18845363716427, 81.7893676482044, 10.22367095602555, 10.22367095602555, 73.83762357129564, 81.7893676482044, 10.22367095602555, 20.4473419120511, 10.22367095602555, 73.83762357129564, 530.4949262737703, 20.4473419120511, 20.4473419120511, 10.22367095602555, 10.22367095602555, 10.22367095602555, 10.22367095602555, 20.4473419120511, 20.4473419120511, 10.22367095602555, 10.22367095602555, 20.4473419120511, 10.22367095602555, 20.4473419120511, 1308.6298823712705, 7240.630963745207, 5543.501585044965, 4291.669874651615, 4075.83682113552, 3650.98649474068, 3246.5835102578917, 2650.2027044897345, 2449.137175687899, 2231.032195292687, 1864.1160043153257, 1830.0371011285738, 1727.8003915683182, 1650.5548776783473, 1308.6298823712705, 1202.9852824923398, 1201.8493190527815, 1104.1564632507595, 1016.6872784047632, 1007.599570888296, 961.0250698664019, 954.2092892290514, 934.8979107565588, 872.4199215808471, 831.5252377567449, 789.4945904930843, 747.4639432294236, 723.6087109986973, 714.5210034822302, 708.8411862844382, 1819.587662874077, 1185.7248129304792, 1219.845593962769, 1035.7625026382054, 5608.005608717633, 954.1004450164183, 6328.932633881648, 1075.2881528742594, 13015.798609215948, 1527.6964798621989, 4998.449683429441, 8652.213560949096, 42381.35514966171, 1949.2675863544748, 21419.36098444008, 3679.6356686187587, 3466.351002402319, 14901.46276237761, 1732.2112394379837, 4301.979906591249, 1.1010138091726511, 1.1010138091726511, 3.3030414275179534, 1.1010138091726511, 22.020276183453024, 5.505069045863256, 19.81824856510772, 2.2020276183453023, 7.707096664208558, 18.717234755935067, 1.1010138091726511, 3.3030414275179534, 15.414193328417117, 3.3030414275179534, 1.1010138091726511, 1.1010138091726511, 1.1010138091726511, 15.414193328417117, 3.3030414275179534, 22.020276183453024, 6.606082855035907, 1.1010138091726511, 1.1010138091726511, 3.3030414275179534, 17.616220946762418, 1.1010138091726511, 12.111151900899163, 3.3030414275179534, 1.1010138091726511, 9.90912428255386, 5811.150884813253, 5163.754765019734, 4302.7619662467205, 3855.750359722624, 3696.1033573925897, 3447.274236519571, 3138.9903699512283, 2919.888621925871, 2455.260794455012, 2374.8867863854084, 2156.8860521692236, 2118.350568848181, 2039.07757458775, 1941.087345571384, 1909.157945105377, 1496.277766665633, 1647.1562852419258, 1402.6915928859576, 1316.8125157704908, 1682.488898937354, 1251.8527010293044, 1215.5192453266068, 1131.8421958294853, 1093.3067125084426, 1083.3975882258885, 1062.4783258516084, 1049.2661601415366, 1093.3265258682625, 1075.6931996438661, 920.4475444683363, 1040.4976763877953, 2952.6559731667253, 1442.4364133036156, 4726.0317860480045, 4446.763780484823, 42381.35514966171, 3471.52887819919, 3292.744712563197, 3726.155493652046, 2235.393047165474, 1937.0522654381962, 4883.952944038021, 17003.55681055341, 2617.7551893746713, 2638.4577305938, 13777.563259711156, 1.1292457502631856, 2.2584915005263713, 1.1292457502631856, 1.1292457502631856, 73.40097376710706, 4.5169830010527425, 1.1292457502631856, 36.13586400842194, 1.1292457502631856, 12.42170325289504, 1.1292457502631856, 1.1292457502631856, 1.1292457502631856, 1.1292457502631856, 1.1292457502631856, 1.1292457502631856, 1.1292457502631856, 628.9898828965944, 73.40097376710706, 1.1292457502631856, 1.1292457502631856, 4.5169830010527425, 1.1292457502631856, 1.1292457502631856, 28.231143756579637, 1.1292457502631856, 2.2584915005263713, 9.033966002105485, 1.1292457502631856, 1.1292457502631856, 8497.574270730473, 8434.336508715733, 5947.737366636198, 8500.26269434589, 3417.0976402963997, 3380.961776287978, 3324.4994887748185, 2984.5965179455998, 2740.6794358887514, 2348.8378782367217, 1981.826291711891, 1816.9564121734657, 1783.07903966557, 1982.8651815457972, 1589.9780163705652, 1457.8562635897727, 1456.7185992582388, 1346.060934313717, 1317.8297905571378, 1282.823172298979, 1228.6193762863459, 1220.7146560345036, 1161.993877020818, 1115.6948012600274, 1009.5457007352879, 933.8862354676545, 880.8116852052848, 842.4173296963365, 774.6625846805454, 753.2069154255448, 1294.1760890052674, 1307.079530049966, 20120.66441069133, 6937.321028966698, 6373.292729824847, 5473.481347826188, 3551.742645360814, 6197.782193174284, 9535.760832038324, 8652.213560949096, 13015.798609215948, 2587.761799688443, 5323.653617322164, 16848.74550360084, 3506.1114603554543, 5204.384660352253, 1.0991271114776258, 7.69388978034338, 3.297381334432877, 9.892144003298633, 1.0991271114776258, 6.594762668865754, 1.0991271114776258, 1.0991271114776258, 1.0991271114776258, 1.0991271114776258, 2.1982542229552515, 4.396508445910503, 10.991271114776257, 1.0991271114776258, 1.0991271114776258, 1.0991271114776258, 1.0991271114776258, 1.0991271114776258, 1.0991271114776258, 1.0991271114776258, 1.0991271114776258, 2.1982542229552515, 1.0991271114776258, 1.0991271114776258, 1.0991271114776258, 1.0991271114776258, 13.189525337731508, 1.0991271114776258, 3.297381334432877, 5.495635557388129, 25346.97031778553, 21426.383911144836, 14187.532754953192, 8237.957700524805, 6588.167906196889, 6481.5525763835585, 4325.069778444338, 4061.274676909827, 12167.287302324938, 3608.434306981045, 2844.5409645040954, 2771.9985751465724, 2656.5902284414215, 2571.957440857644, 2165.2804096109226, 3172.1853696039516, 1987.2218175515472, 1932.265461977666, 1847.632674393889, 1727.8278192428277, 1692.6557516755436, 1781.6896424851122, 1835.6159488237963, 1502.5424420113695, 1270.5909408681352, 1169.4712466121937, 1092.53234880876, 1891.648301431686, 988.1152732183855, 971.6283665462211, 4277.625318969788, 1160.7685856367293, 9549.92982298467, 6065.4577798997125, 5525.889924616159, 4301.979906591249, 4562.673611110038, 3255.4727504613493, 3725.4054256135714, 2873.818150754576, 7.8457901829480745, 14.570753196903567, 11.20827168992582, 11.20827168992582, 7.8457901829480745, 5.60413584496291, 3.362481506977746, 6.724963013955492, 3.362481506977746, 14.570753196903567, 7.8457901829480745, 6.724963013955492, 3.362481506977746, 3.362481506977746, 3.362481506977746, 7.8457901829480745, 14.570753196903567, 6.724963013955492, 3.362481506977746, 3.362481506977746, 3.362481506977746, 6.724963013955492, 14.570753196903567, 5.60413584496291, 5.60413584496291, 5.60413584496291, 7.8457901829480745, 6.724963013955492, 14.570753196903567, 19.054061872873895, 13361.353663333059, 8777.197560380911, 7313.397277676599, 6209.382516218904, 5873.134365521129, 3959.8823880507925, 7322.205645410255, 3902.720202432171, 3343.4274451048723, 3097.944595037982, 2850.2803279106774, 2183.3713251975496, 1795.5651247261164, 1642.0118025741328, 1548.9831475477483, 1526.566604167897, 1511.9958509709932, 1416.7255416066237, 7424.873057458978, 1388.7048623818093, 1256.4472564406844, 1158.9352927383297, 1047.9734030080642, 1016.590242276272, 1013.2277607692943, 914.594969897947, 831.6537593924959, 998.6136074573608, 774.4915737738742, 743.1084130420819, 778.9626847450136, 25356.279264824385, 3402.3288155443174, 17003.55681055341, 14901.46276237761, 21419.36098444008, 3865.361202013642, 1695.8945366384803, 5076.551762831538, 5204.384660352253, 9535.760832038324, 4883.952944038021, 6197.782193174284, 3506.1114603554543, 79598.13420089844, 33.25888392484824, 16.62944196242412, 33.25888392484824, 16.62944196242412, 16.62944196242412, 16.62944196242412, 33.25888392484824, 66.51776784969648, 16.62944196242412, 16.62944196242412, 16.62944196242412, 16.62944196242412, 1.1086294641616081, 2.2172589283232162, 3.325888392484824, 1.1086294641616081, 6.651776784969648, 1.1086294641616081, 9.977665177454472, 1.1086294641616081, 1.1086294641616081, 6.651776784969648, 1.1086294641616081, 3.325888392484824, 12.19492410577769, 1.1086294641616081, 1.1086294641616081, 1.1086294641616081, 1.1086294641616081, 1.1086294641616081, 33210.10422842513, 25897.584282815165, 14979.801319751648, 14128.192994685944, 8329.133164246161, 7390.124008101279, 3423.4477853310455, 3355.8213880171875, 3311.4928853668102, 3026.5584371611903, 2944.519856813231, 2022.1401426307732, 1861.38887032734, 1791.5452140851585, 2074.2172203883165, 1754.9604417678256, 1751.6345533753408, 1686.2254149898058, 1671.813231955705, 2033.3357731739763, 1550.9726203620896, 1499.9756650106556, 1340.333022171384, 1270.489365929203, 1197.3198212945367, 1182.9076382604358, 1077.587839165083, 1075.37058023676, 927.922861503266, 994.4357217801595, 7657.103411258255, 16848.74550360084, 4413.483796228606, 2806.262351695717, 1770.8881008194362, 2973.018877108566, 20120.66441069133, 2653.5501116005453, 85744.77965183683, 1.116967422205196, 1.116967422205196, 1.116967422205196, 3.350902266615588, 2.233934844410392, 1.116967422205196, 1.116967422205196, 1.116967422205196, 1.116967422205196, 1.116967422205196, 1.116967422205196, 1.116967422205196, 5.58483711102598, 1.116967422205196, 4.467869688820784, 3.350902266615588, 2.233934844410392, 3.350902266615588, 1.116967422205196, 3.350902266615588, 7.818771955436371, 10.052706799846764, 1.116967422205196, 2.233934844410392, 2.233934844410392, 3.350902266615588, 1.116967422205196, 1.116967422205196, 3.350902266615588, 1.116967422205196, 41916.436453094386, 4404.202545755088, 4401.968610910677, 3346.434396926767, 1921.183966192937, 1847.4641163273939, 976.2295270073412, 79598.13420089844, 529.4425581252628, 346.2599008836107, 330.622356972738, 15550.768744498759, 230.09528897427035, 227.86135412985996, 226.74438670765477, 295.98802892633336, 189.8844617748833, 163.0772436419586, 156.37543910872742, 132.9191232424183, 119.51551417595596, 115.04764448713517, 111.6967422205196, 106.1119051094936, 102.76100284287803, 97.17616573185204, 86.00649150980009, 82.6555892431845, 81.5386218209793, 80.42165439877411, 252.38677657927664, 273.8279825964518, 16424.763412113283, 432.7452152943142, 5384.081403076633, 2459.7554231316485, 988.8352953357836, 109422.77072327185, 13777.563259711156, 1302.27384056952, 3725.4054256135714, 42381.35514966171, 5323.653617322164, 5076.551762831538, 2587.761799688443, 6937.321028966698, 554.4451466004481, 773.7085166511201, 1775.6712232834473, 5608.005608717633, 25.385603501250465, 5.518609456793579, 9.933497022228444, 19.866994044456888, 9.933497022228444, 5.518609456793579, 11.037218913587157, 33.111656740761475, 16.555828370380738, 5.518609456793579, 5.518609456793579, 5.518609456793579, 23.17815971853303, 45.252597545707346, 7.72605323951101, 9.933497022228444, 5.518609456793579, 5.518609456793579, 9.933497022228444, 32.00793484940276, 9.933497022228444, 9.933497022228444, 5.518609456793579, 16.555828370380738, 7.72605323951101, 11.037218913587157, 9.933497022228444, 7.72605323951101, 16.555828370380738, 64.01586969880552, 15069.114982720548, 12403.626615089248, 5412.652155223143, 4284.648382254535, 85744.77965183683, 1090.477228662411, 962.4454892648002, 853.1770220202874, 843.243524998059, 677.6852412942515, 559.586998918869, 501.089738676857, 418.31059682495334, 333.32401119033216, 413.908954790365, 409.48572926688644, 278.1379166223964, 220.7443782717432, 183.21783396554684, 172.18061505195968, 152.31362100750277, 142.38012398527434, 142.38012398527434, 140.17268020255693, 139.0689583111982, 133.5503488544046, 133.5503488544046, 132.4466269630459, 130.2391831803285, 128.03173939761103, 153.43058842970797, 109422.77072327185, 1880.0939773029152, 870.4141114610007, 2026.7929466343799, 2776.633237607845, 13777.563259711156, 163.3978041876983, 792.8936031760285, 16424.763412113283, 302.05012269695237, 25356.279264824385, 42381.35514966171, 2973.018877108566, 3865.361202013642, 7657.103411258255, 15550.768744498759, 1557.8457304005224], \"Category\": [\"Default\", \"Default\", \"Default\", \"Default\", \"Default\", \"Default\", \"Default\", \"Default\", \"Default\", \"Default\", \"Default\", \"Default\", \"Default\", \"Default\", \"Default\", \"Default\", \"Default\", \"Default\", \"Default\", \"Default\", \"Default\", \"Default\", \"Default\", \"Default\", \"Default\", \"Default\", \"Default\", \"Default\", \"Default\", \"Default\", \"Topic1\", \"Topic1\", \"Topic1\", \"Topic1\", \"Topic1\", \"Topic1\", \"Topic1\", \"Topic1\", \"Topic1\", \"Topic1\", \"Topic1\", \"Topic1\", \"Topic1\", \"Topic1\", \"Topic1\", \"Topic1\", \"Topic1\", \"Topic1\", \"Topic1\", \"Topic1\", \"Topic1\", \"Topic1\", \"Topic1\", \"Topic1\", \"Topic1\", \"Topic1\", \"Topic1\", \"Topic1\", \"Topic1\", \"Topic1\", \"Topic1\", \"Topic1\", \"Topic1\", \"Topic1\", \"Topic1\", \"Topic1\", \"Topic1\", \"Topic1\", \"Topic1\", \"Topic1\", \"Topic1\", \"Topic1\", \"Topic1\", \"Topic1\", \"Topic1\", \"Topic1\", \"Topic1\", \"Topic1\", \"Topic1\", \"Topic1\", \"Topic1\", \"Topic1\", \"Topic1\", \"Topic1\", \"Topic1\", \"Topic1\", \"Topic1\", \"Topic1\", \"Topic1\", \"Topic1\", \"Topic1\", \"Topic1\", \"Topic1\", \"Topic1\", \"Topic1\", \"Topic1\", \"Topic1\", \"Topic1\", \"Topic1\", \"Topic1\", \"Topic1\", \"Topic1\", \"Topic1\", \"Topic1\", \"Topic1\", \"Topic1\", \"Topic1\", \"Topic1\", \"Topic1\", \"Topic2\", \"Topic2\", \"Topic2\", \"Topic2\", \"Topic2\", \"Topic2\", \"Topic2\", \"Topic2\", \"Topic2\", \"Topic2\", \"Topic2\", \"Topic2\", \"Topic2\", \"Topic2\", \"Topic2\", \"Topic2\", \"Topic2\", \"Topic2\", \"Topic2\", \"Topic2\", \"Topic2\", \"Topic2\", \"Topic2\", \"Topic2\", \"Topic2\", \"Topic2\", \"Topic2\", \"Topic2\", \"Topic2\", \"Topic2\", \"Topic2\", \"Topic2\", \"Topic2\", \"Topic2\", \"Topic2\", \"Topic2\", \"Topic2\", \"Topic2\", \"Topic2\", \"Topic2\", \"Topic2\", \"Topic2\", \"Topic2\", \"Topic2\", \"Topic2\", \"Topic2\", \"Topic2\", \"Topic2\", \"Topic2\", \"Topic2\", \"Topic2\", \"Topic2\", \"Topic2\", \"Topic2\", \"Topic2\", \"Topic2\", \"Topic2\", \"Topic2\", \"Topic2\", \"Topic2\", \"Topic2\", \"Topic2\", \"Topic2\", \"Topic2\", \"Topic2\", \"Topic2\", \"Topic2\", \"Topic2\", \"Topic2\", \"Topic2\", \"Topic2\", \"Topic2\", \"Topic2\", \"Topic2\", \"Topic2\", \"Topic2\", \"Topic3\", \"Topic3\", \"Topic3\", \"Topic3\", \"Topic3\", \"Topic3\", \"Topic3\", \"Topic3\", \"Topic3\", \"Topic3\", \"Topic3\", \"Topic3\", \"Topic3\", \"Topic3\", \"Topic3\", \"Topic3\", \"Topic3\", \"Topic3\", \"Topic3\", \"Topic3\", \"Topic3\", \"Topic3\", \"Topic3\", \"Topic3\", \"Topic3\", \"Topic3\", \"Topic3\", \"Topic3\", \"Topic3\", \"Topic3\", \"Topic3\", \"Topic3\", \"Topic3\", \"Topic3\", \"Topic3\", \"Topic3\", \"Topic3\", \"Topic3\", \"Topic3\", \"Topic3\", \"Topic3\", \"Topic3\", \"Topic3\", \"Topic3\", \"Topic3\", \"Topic3\", \"Topic3\", \"Topic3\", \"Topic3\", \"Topic3\", \"Topic3\", \"Topic3\", \"Topic3\", \"Topic3\", \"Topic3\", \"Topic3\", \"Topic3\", \"Topic3\", \"Topic3\", \"Topic3\", \"Topic3\", \"Topic3\", \"Topic3\", \"Topic3\", \"Topic3\", \"Topic3\", \"Topic3\", \"Topic3\", \"Topic3\", \"Topic3\", \"Topic3\", \"Topic3\", \"Topic3\", \"Topic3\", \"Topic3\", \"Topic3\", \"Topic4\", \"Topic4\", \"Topic4\", \"Topic4\", \"Topic4\", \"Topic4\", \"Topic4\", \"Topic4\", \"Topic4\", \"Topic4\", \"Topic4\", \"Topic4\", \"Topic4\", \"Topic4\", \"Topic4\", \"Topic4\", \"Topic4\", \"Topic4\", \"Topic4\", \"Topic4\", \"Topic4\", \"Topic4\", \"Topic4\", \"Topic4\", \"Topic4\", \"Topic4\", \"Topic4\", \"Topic4\", \"Topic4\", \"Topic4\", \"Topic4\", \"Topic4\", \"Topic4\", \"Topic4\", \"Topic4\", \"Topic4\", \"Topic4\", \"Topic4\", \"Topic4\", \"Topic4\", \"Topic4\", \"Topic4\", \"Topic4\", \"Topic4\", \"Topic4\", \"Topic4\", \"Topic4\", \"Topic4\", \"Topic4\", \"Topic4\", \"Topic4\", \"Topic4\", \"Topic4\", \"Topic4\", \"Topic4\", \"Topic4\", \"Topic4\", \"Topic4\", \"Topic4\", \"Topic4\", \"Topic4\", \"Topic4\", \"Topic4\", \"Topic4\", \"Topic4\", \"Topic4\", \"Topic4\", \"Topic4\", \"Topic4\", \"Topic4\", \"Topic5\", \"Topic5\", \"Topic5\", \"Topic5\", \"Topic5\", \"Topic5\", \"Topic5\", \"Topic5\", \"Topic5\", \"Topic5\", \"Topic5\", \"Topic5\", \"Topic5\", \"Topic5\", \"Topic5\", \"Topic5\", \"Topic5\", \"Topic5\", \"Topic5\", \"Topic5\", \"Topic5\", \"Topic5\", \"Topic5\", \"Topic5\", \"Topic5\", \"Topic5\", \"Topic5\", \"Topic5\", \"Topic5\", \"Topic5\", \"Topic5\", \"Topic5\", \"Topic5\", \"Topic5\", \"Topic5\", \"Topic5\", \"Topic5\", \"Topic5\", \"Topic5\", \"Topic5\", \"Topic5\", \"Topic5\", \"Topic5\", \"Topic5\", \"Topic5\", \"Topic5\", \"Topic5\", \"Topic5\", \"Topic5\", \"Topic5\", \"Topic5\", \"Topic5\", \"Topic5\", \"Topic5\", \"Topic5\", \"Topic5\", \"Topic5\", \"Topic5\", \"Topic5\", \"Topic5\", \"Topic5\", \"Topic5\", \"Topic5\", \"Topic5\", \"Topic5\", \"Topic5\", \"Topic5\", \"Topic5\", \"Topic5\", \"Topic5\", \"Topic5\", \"Topic5\", \"Topic5\", \"Topic5\", \"Topic5\", \"Topic6\", \"Topic6\", \"Topic6\", \"Topic6\", \"Topic6\", \"Topic6\", \"Topic6\", \"Topic6\", \"Topic6\", \"Topic6\", \"Topic6\", \"Topic6\", \"Topic6\", \"Topic6\", \"Topic6\", \"Topic6\", \"Topic6\", \"Topic6\", \"Topic6\", \"Topic6\", \"Topic6\", \"Topic6\", \"Topic6\", \"Topic6\", \"Topic6\", \"Topic6\", \"Topic6\", \"Topic6\", \"Topic6\", \"Topic6\", \"Topic6\", \"Topic6\", \"Topic6\", \"Topic6\", \"Topic6\", \"Topic6\", \"Topic6\", \"Topic6\", \"Topic6\", \"Topic6\", \"Topic6\", \"Topic6\", \"Topic6\", \"Topic6\", \"Topic6\", \"Topic6\", \"Topic6\", \"Topic6\", \"Topic6\", \"Topic6\", \"Topic6\", \"Topic6\", \"Topic6\", \"Topic6\", \"Topic6\", \"Topic6\", \"Topic6\", \"Topic6\", \"Topic6\", \"Topic6\", \"Topic6\", \"Topic6\", \"Topic6\", \"Topic6\", \"Topic6\", \"Topic6\", \"Topic6\", \"Topic6\", \"Topic6\", \"Topic7\", \"Topic7\", \"Topic7\", \"Topic7\", \"Topic7\", \"Topic7\", \"Topic7\", \"Topic7\", \"Topic7\", \"Topic7\", \"Topic7\", \"Topic7\", \"Topic7\", \"Topic7\", \"Topic7\", \"Topic7\", \"Topic7\", \"Topic7\", \"Topic7\", \"Topic7\", \"Topic7\", \"Topic7\", \"Topic7\", \"Topic7\", \"Topic7\", \"Topic7\", \"Topic7\", \"Topic7\", \"Topic7\", \"Topic7\", \"Topic7\", \"Topic7\", \"Topic7\", \"Topic7\", \"Topic7\", \"Topic7\", \"Topic7\", \"Topic7\", \"Topic7\", \"Topic7\", \"Topic7\", \"Topic7\", \"Topic7\", \"Topic7\", \"Topic7\", \"Topic7\", \"Topic7\", \"Topic7\", \"Topic7\", \"Topic7\", \"Topic7\", \"Topic7\", \"Topic7\", \"Topic7\", \"Topic7\", \"Topic7\", \"Topic7\", \"Topic7\", \"Topic7\", \"Topic7\", \"Topic7\", \"Topic7\", \"Topic7\", \"Topic7\", \"Topic7\", \"Topic7\", \"Topic7\", \"Topic7\", \"Topic7\", \"Topic7\", \"Topic7\", \"Topic7\", \"Topic7\", \"Topic7\", \"Topic7\", \"Topic7\", \"Topic7\", \"Topic7\", \"Topic7\", \"Topic7\", \"Topic8\", \"Topic8\", \"Topic8\", \"Topic8\", \"Topic8\", \"Topic8\", \"Topic8\", \"Topic8\", \"Topic8\", \"Topic8\", \"Topic8\", \"Topic8\", \"Topic8\", \"Topic8\", \"Topic8\", \"Topic8\", \"Topic8\", \"Topic8\", \"Topic8\", \"Topic8\", \"Topic8\", \"Topic8\", \"Topic8\", \"Topic8\", \"Topic8\", \"Topic8\", \"Topic8\", \"Topic8\", \"Topic8\", \"Topic8\", \"Topic8\", \"Topic8\", \"Topic8\", \"Topic8\", \"Topic8\", \"Topic8\", \"Topic8\", \"Topic8\", \"Topic8\", \"Topic8\", \"Topic8\", \"Topic8\", \"Topic8\", \"Topic8\", \"Topic8\", \"Topic8\", \"Topic8\", \"Topic8\", \"Topic8\", \"Topic8\", \"Topic8\", \"Topic8\", \"Topic8\", \"Topic8\", \"Topic8\", \"Topic8\", \"Topic8\", \"Topic8\", \"Topic8\", \"Topic8\", \"Topic8\", \"Topic8\", \"Topic8\", \"Topic8\", \"Topic8\", \"Topic8\", \"Topic8\", \"Topic8\", \"Topic8\", \"Topic8\", \"Topic8\", \"Topic8\", \"Topic8\", \"Topic8\", \"Topic8\", \"Topic8\", \"Topic8\", \"Topic8\"], \"logprob\": [30.0, 29.0, 28.0, 27.0, 26.0, 25.0, 24.0, 23.0, 22.0, 21.0, 20.0, 19.0, 18.0, 17.0, 16.0, 15.0, 14.0, 13.0, 12.0, 11.0, 10.0, 9.0, 8.0, 7.0, 6.0, 5.0, 4.0, 3.0, 2.0, 1.0, -10.2324, -10.2324, -9.5393, -7.4598, -10.2324, -7.8549, -8.153, -10.2324, -10.2324, -8.2553, -8.153, -10.2324, -9.5393, -10.2324, -8.2553, -6.2833, -9.5393, -9.5393, -10.2324, -10.2324, -10.2324, -10.2324, -9.5393, -9.5393, -10.2324, -10.2324, -9.5393, -10.2324, -9.5393, -5.3804, -3.6697, -3.9368, -4.1927, -4.2443, -4.3544, -4.4718, -4.6747, -4.7537, -4.8469, -5.0266, -5.045, -5.1025, -5.1483, -5.3804, -5.4646, -5.4655, -5.5503, -5.6328, -5.6418, -5.6891, -5.6963, -5.7167, -5.7859, -5.8339, -5.8857, -5.9405, -5.9729, -5.9855, -5.9935, -5.0638, -5.4846, -5.4571, -5.6217, -3.9935, -5.7106, -4.0647, -5.6096, -3.5416, -5.328, -4.4025, -4.1259, -3.1132, -5.2049, -3.7286, -4.9013, -5.0563, -4.5969, -5.3658, -5.3709, -12.4348, -12.4348, -11.3362, -12.4348, -9.4391, -10.8254, -9.5444, -11.7417, -10.4889, -9.6016, -12.4348, -11.3362, -9.7957, -11.3362, -12.4348, -12.4348, -12.4348, -9.7957, -11.3362, -9.4391, -10.643, -12.4348, -12.4348, -11.3362, -9.6622, -12.4348, -10.0369, -11.3362, -12.4348, -10.2376, -3.8635, -3.9816, -4.164, -4.2737, -4.316, -4.3857, -4.4794, -4.5517, -4.725, -4.7583, -4.8546, -4.8726, -4.9108, -4.96, -4.9766, -5.2203, -5.1256, -5.2849, -5.3481, -5.1057, -5.3987, -5.4281, -5.4994, -5.5341, -5.5432, -5.5627, -5.5752, -5.5351, -5.5513, -5.7062, -5.5857, -4.6232, -5.288, -4.2587, -4.3229, -2.8037, -4.6911, -4.7372, -4.6553, -5.0415, -5.2108, -4.8567, -4.4028, -5.107, -5.1377, -5.0843, -12.3707, -11.6776, -12.3707, -12.3707, -8.1963, -10.9844, -12.3707, -8.905, -12.3707, -9.9728, -12.3707, -12.3707, -12.3707, -12.3707, -12.3707, -12.3707, -12.3707, -6.0482, -8.1963, -12.3707, -12.3707, -10.9844, -12.3707, -12.3707, -9.1519, -12.3707, -11.6776, -10.2913, -12.3707, -12.3707, -3.4447, -3.4522, -3.8015, -3.453, -4.3557, -4.3664, -4.3832, -4.4911, -4.5763, -4.7311, -4.9005, -4.9874, -5.0062, -4.9016, -5.1208, -5.2076, -5.2091, -5.2873, -5.3085, -5.3355, -5.3786, -5.3851, -5.4344, -5.475, -5.575, -5.6529, -5.7114, -5.756, -5.8399, -5.8679, -5.3346, -5.3363, -2.8325, -3.8197, -3.9487, -4.2325, -4.5854, -4.2348, -4.0852, -4.1845, -4.0189, -5.0403, -4.7982, -4.4979, -5.0682, -5.1431, -12.3808, -10.4349, -11.2822, -10.1836, -12.3808, -10.589, -12.3808, -12.3808, -12.3808, -12.3808, -11.6876, -10.9945, -10.0782, -12.3808, -12.3808, -12.3808, -12.3808, -12.3808, -12.3808, -12.3808, -12.3808, -11.6876, -12.3808, -12.3808, -12.3808, -12.3808, -9.8959, -12.3808, -11.2822, -10.7714, -2.3349, -2.5029, -2.9152, -3.4588, -3.6823, -3.6986, -4.1034, -4.1661, -3.0799, -4.2843, -4.5222, -4.548, -4.5905, -4.6229, -4.795, -4.417, -4.8808, -4.9089, -4.9537, -5.0207, -5.0413, -4.9906, -4.9614, -5.1619, -5.3281, -5.411, -5.4791, -4.9365, -5.5795, -5.5963, -4.1396, -5.4214, -3.3764, -3.9291, -4.2932, -4.4757, -4.4438, -4.8471, -4.8192, -4.9077, -10.3859, -9.7668, -10.0292, -10.0292, -10.3859, -10.7223, -11.2331, -10.54, -11.2331, -9.7668, -10.3859, -10.54, -11.2331, -11.2331, -11.2331, -10.3859, -9.7668, -10.54, -11.2331, -11.2331, -11.2331, -10.54, -9.7668, -10.7223, -10.7223, -10.7223, -10.3859, -10.54, -9.7668, -9.4985, -2.9463, -3.3659, -3.5484, -3.712, -3.7677, -4.1619, -3.5534, -4.1764, -4.3311, -4.4077, -4.4914, -4.7572, -4.9528, -5.0422, -5.1005, -5.1151, -5.1246, -5.1897, -3.5499, -5.2097, -5.3098, -5.3906, -5.4912, -5.5216, -5.5249, -5.6273, -5.7224, -5.5417, -5.7936, -5.835, -5.7893, -2.4629, -4.4055, -2.9272, -3.0501, -2.9668, -4.4248, -5.1099, -4.2478, -4.2435, -3.9173, -4.5336, -4.6873, -4.9336, -4.2029, -8.936, -9.6292, -8.936, -9.6292, -9.6292, -9.6292, -8.936, -8.2429, -9.6292, -9.6292, -9.6292, -9.6292, -12.3372, -11.6441, -11.2386, -12.3372, -10.5455, -12.3372, -10.14, -12.3372, -12.3372, -10.5455, -12.3372, -11.2386, -9.9393, -12.3372, -12.3372, -12.3372, -12.3372, -12.3372, -2.0297, -2.2784, -2.8259, -2.888, -3.4128, -3.5324, -4.3019, -4.3219, -4.3359, -4.4252, -4.4526, -4.8284, -4.9113, -4.9495, -4.8046, -4.9701, -4.972, -5.0101, -5.0187, -4.8252, -5.0937, -5.1271, -5.2397, -5.2932, -5.3525, -5.3646, -5.4579, -5.4599, -5.6074, -5.5393, -3.5697, -2.9018, -4.2069, -4.6724, -5.0545, -4.7663, -4.0407, -5.051, -4.4414, -12.3181, -12.3181, -12.3181, -11.2195, -11.6249, -12.3181, -12.3181, -12.3181, -12.3181, -12.3181, -12.3181, -12.3181, -10.7087, -12.3181, -10.9318, -11.2195, -11.6249, -11.2195, -12.3181, -11.2195, -10.3722, -10.1209, -12.3181, -11.6249, -11.6249, -11.2195, -12.3181, -12.3181, -11.2195, -12.3181, -1.7853, -4.0384, -4.0389, -4.3131, -4.868, -4.9071, -5.545, -1.1929, -6.1569, -6.5815, -6.6277, -2.8177, -6.9902, -7.0, -7.0049, -6.7421, -7.1823, -7.3345, -7.3765, -7.539, -7.6453, -7.6834, -7.7129, -7.7642, -7.7963, -7.8522, -7.9743, -8.014, -8.0276, -8.0414, -6.9109, -6.8543, -3.003, -6.4659, -4.144, -4.9023, -5.874, -2.0408, -3.8162, -5.8019, -5.0436, -3.279, -4.8553, -5.1816, -5.6665, -5.4285, -6.6345, -6.5312, -6.6869, -6.7013, -9.192, -10.7181, -10.1303, -9.4371, -10.1303, -10.7181, -10.0249, -8.9263, -9.6195, -10.7181, -10.7181, -10.7181, -9.283, -8.6139, -10.3816, -10.1303, -10.7181, -10.7181, -10.1303, -8.9602, -10.1303, -10.1303, -10.7181, -9.6195, -10.3816, -10.0249, -10.1303, -10.3816, -9.6195, -8.2671, -2.8058, -3.0005, -3.8297, -4.0634, -1.1024, -5.4318, -5.5567, -5.6772, -5.6889, -5.9075, -6.099, -6.2094, -6.39, -6.6171, -6.4033, -6.414, -6.7981, -7.0292, -7.2155, -7.2777, -7.4003, -7.4677, -7.4677, -7.4833, -7.4912, -7.5317, -7.5317, -7.54, -7.5568, -7.5739, -7.4003, -1.1752, -5.0565, -5.877, -5.1643, -4.9386, -3.6542, -7.3577, -6.1812, -4.1272, -6.9569, -4.2096, -4.2463, -5.7155, -5.7168, -6.1516, -5.9925, -6.5909], \"loglift\": [30.0, 29.0, 28.0, 27.0, 26.0, 25.0, 24.0, 23.0, 22.0, 21.0, 20.0, 19.0, 18.0, 17.0, 16.0, 15.0, 14.0, 13.0, 12.0, 11.0, 10.0, 9.0, 8.0, 7.0, 6.0, 5.0, 4.0, 3.0, 2.0, 1.0, 1.998, 1.998, 1.998, 1.998, 1.998, 1.998, 1.998, 1.998, 1.998, 1.998, 1.998, 1.998, 1.998, 1.998, 1.998, 1.998, 1.998, 1.998, 1.998, 1.998, 1.998, 1.998, 1.998, 1.998, 1.998, 1.998, 1.998, 1.998, 1.998, 1.998, 1.998, 1.998, 1.998, 1.998, 1.998, 1.998, 1.998, 1.998, 1.998, 1.998, 1.998, 1.998, 1.998, 1.998, 1.998, 1.998, 1.998, 1.998, 1.998, 1.998, 1.998, 1.998, 1.998, 1.998, 1.998, 1.998, 1.998, 1.998, 1.998, 1.9849, 1.9924, 1.9916, 1.9905, 1.9297, 1.9837, 1.7375, 1.9651, 1.5396, 1.8956, 1.6357, 1.3636, 0.7875, 1.775, 0.8544, 1.4432, 1.348, 0.349, 1.7322, 0.8174, 2.0241, 2.0241, 2.0241, 2.0241, 2.0241, 2.0241, 2.0241, 2.0241, 2.0241, 2.0241, 2.0241, 2.0241, 2.0241, 2.0241, 2.0241, 2.0241, 2.0241, 2.0241, 2.0241, 2.0241, 2.0241, 2.0241, 2.0241, 2.0241, 2.0241, 2.0241, 2.0241, 2.0241, 2.0241, 2.0241, 2.0241, 2.0241, 2.0241, 2.0241, 2.0241, 2.0241, 2.0241, 2.0241, 2.0241, 2.0241, 2.0241, 2.0241, 2.0241, 2.0241, 2.0241, 2.0241, 2.0227, 2.0241, 2.0241, 2.0214, 2.0241, 2.0241, 2.0241, 2.0241, 2.0241, 2.0241, 2.0241, 2.023, 2.023, 2.0241, 2.0219, 1.9414, 1.993, 1.8356, 1.8323, 1.0969, 1.7117, 1.7184, 1.6766, 1.8014, 1.7754, 1.2047, 0.4112, 1.578, 1.5394, -0.06, 2.0628, 2.0628, 2.0628, 2.0628, 2.0628, 2.0628, 2.0628, 2.0628, 2.0628, 2.0628, 2.0628, 2.0628, 2.0628, 2.0628, 2.0628, 2.0628, 2.0628, 2.0628, 2.0628, 2.0628, 2.0628, 2.0628, 2.0628, 2.0628, 2.0628, 2.0628, 2.0628, 2.0628, 2.0628, 2.0628, 2.0628, 2.0628, 2.0628, 2.0542, 2.0628, 2.0628, 2.0628, 2.0628, 2.0628, 2.0623, 2.0628, 2.0628, 2.0628, 2.0612, 2.0628, 2.0628, 2.0621, 2.0628, 2.0628, 2.0628, 2.0628, 2.0628, 2.0628, 2.0628, 2.0628, 2.0628, 2.0628, 2.0628, 2.0628, 2.0628, 2.0549, 2.0432, 1.8131, 1.8907, 1.8465, 1.715, 1.7945, 1.5884, 1.3071, 1.305, 1.0623, 1.6562, 1.177, 0.3252, 1.3246, 0.8548, 2.0798, 2.0798, 2.0798, 2.0798, 2.0798, 2.0798, 2.0798, 2.0798, 2.0798, 2.0798, 2.0798, 2.0798, 2.0798, 2.0798, 2.0798, 2.0798, 2.0798, 2.0798, 2.0798, 2.0798, 2.0798, 2.0798, 2.0798, 2.0798, 2.0798, 2.0798, 2.0798, 2.0798, 2.0798, 2.0798, 2.0798, 2.0798, 2.0798, 2.0798, 2.0798, 2.0798, 2.0795, 2.0798, 2.0687, 2.0798, 2.0798, 2.0798, 2.0798, 2.0798, 2.0798, 2.0759, 2.0798, 2.0798, 2.0798, 2.0798, 2.0798, 2.0792, 2.0786, 2.0783, 2.0798, 2.0798, 2.0798, 2.0734, 2.0798, 2.0798, 2.0543, 2.0769, 2.0144, 1.9156, 1.6448, 1.7126, 1.6857, 1.6199, 1.513, 1.684, 2.1093, 2.1093, 2.1093, 2.1093, 2.1093, 2.1093, 2.1093, 2.1093, 2.1093, 2.1093, 2.1093, 2.1093, 2.1093, 2.1093, 2.1093, 2.1093, 2.1093, 2.1093, 2.1093, 2.1093, 2.1093, 2.1093, 2.1093, 2.1093, 2.1093, 2.1093, 2.1093, 2.1093, 2.1093, 2.1093, 2.1087, 2.1093, 2.1093, 2.1093, 2.1093, 2.1093, 2.103, 2.1093, 2.1093, 2.1089, 2.1085, 2.1093, 2.1093, 2.1093, 2.1093, 2.1093, 2.1093, 2.1093, 2.0926, 2.1093, 2.1093, 2.1093, 2.1093, 2.1093, 2.1093, 2.1093, 2.1093, 2.1071, 2.1093, 2.1093, 2.1079, 1.9514, 2.0174, 1.8868, 1.8958, 1.6162, 1.8704, 2.0092, 1.7749, 1.7543, 1.475, 1.5277, 1.1358, 1.4593, -0.9325, 2.1148, 2.1148, 2.1148, 2.1148, 2.1148, 2.1148, 2.1148, 2.1148, 2.1148, 2.1148, 2.1148, 2.1148, 2.1148, 2.1148, 2.1148, 2.1148, 2.1148, 2.1148, 2.1148, 2.1148, 2.1148, 2.1148, 2.1148, 2.1148, 2.1148, 2.1148, 2.1148, 2.1148, 2.1148, 2.1148, 2.1148, 2.1148, 2.1148, 2.1112, 2.1148, 2.1148, 2.1148, 2.1148, 2.1141, 2.1148, 2.1148, 2.1148, 2.1148, 2.1148, 2.1132, 2.1148, 2.1148, 2.1148, 2.1148, 2.1125, 2.1148, 2.1148, 2.1148, 2.1148, 2.1148, 2.1148, 2.1148, 2.1148, 2.1148, 2.1136, 2.042, 1.9213, 1.9558, 1.9431, 2.0214, 1.7915, 0.6049, 1.6204, -1.2454, 2.1264, 2.1264, 2.1264, 2.1264, 2.1264, 2.1264, 2.1264, 2.1264, 2.1264, 2.1264, 2.1264, 2.1264, 2.1264, 2.1264, 2.1264, 2.1264, 2.1264, 2.1264, 2.1264, 2.1264, 2.1264, 2.1264, 2.1264, 2.1264, 2.1264, 2.1264, 2.1264, 2.1264, 2.1264, 2.1264, 2.1264, 2.1264, 2.1264, 2.1264, 2.1264, 2.1264, 2.1264, 2.0775, 2.1264, 2.1264, 2.1264, 2.0855, 2.1264, 2.1264, 2.1264, 2.1226, 2.1264, 2.1264, 2.1264, 2.1264, 2.1264, 2.1264, 2.1264, 2.1264, 2.1264, 2.1264, 2.1264, 2.1264, 2.1264, 2.1264, 2.1132, 2.0883, 1.8455, 2.0191, 1.82, 1.845, 1.7846, 0.9113, 1.2081, 1.5813, 1.2886, 0.6216, 1.1199, 0.8411, 1.03, 0.2819, 1.6026, 1.3727, 0.3863, -0.7782, 2.1289, 2.1289, 2.1289, 2.1289, 2.1289, 2.1289, 2.1289, 2.1289, 2.1289, 2.1289, 2.1289, 2.1289, 2.1289, 2.1289, 2.1289, 2.1289, 2.1289, 2.1289, 2.1289, 2.1289, 2.1289, 2.1289, 2.1289, 2.1289, 2.1289, 2.1289, 2.1289, 2.1289, 2.1289, 2.1289, 2.1289, 2.1289, 2.1289, 2.1289, 2.0936, 2.1289, 2.1289, 2.1289, 2.1289, 2.1289, 2.1289, 2.1289, 2.1289, 2.1289, 2.1262, 2.1262, 2.1289, 2.1289, 2.1289, 2.1289, 2.1289, 2.1289, 2.1289, 2.1289, 2.1289, 2.1289, 2.1289, 2.1289, 2.1289, 2.1289, 2.1216, 1.7769, 1.9595, 1.9091, 1.7766, 1.6875, 1.3701, 2.1012, 1.6982, 0.7213, 1.8876, 0.2047, -0.3457, 0.8423, 0.5785, -0.5399, -1.0892, 0.6131]}, \"token.table\": {\"Topic\": [5, 1, 8, 4, 6, 5, 5, 4, 8, 6, 4, 6, 3, 7, 7, 7, 6, 2, 5, 7, 8, 8, 6, 1, 2, 6, 7, 3, 8, 4, 2, 1, 3, 4, 8, 1, 3, 2, 5, 2, 4, 6, 6, 7, 1, 1, 3, 8, 8, 2, 4, 6, 7, 2, 3, 6, 5, 5, 2, 4, 2, 6, 7, 3, 8, 7, 2, 5, 7, 2, 8, 3, 3, 5, 6, 6, 8, 3, 2, 3, 3, 8, 3, 1, 8, 1, 5, 4, 1, 6, 8, 5, 2, 2, 4, 1, 4, 1, 2, 6, 7, 5, 5, 1, 8, 3, 3, 1, 3, 3, 2, 3, 5, 4, 5, 6, 7, 3, 8, 3, 5, 8, 3, 6, 1, 4, 2, 2, 5, 1, 2, 7, 8, 6, 8, 6, 1, 6, 1, 7, 3, 7, 4, 7, 4, 3, 5, 7, 2, 2, 2, 5, 7, 8, 1, 2, 3, 1, 7, 4, 1, 3, 6, 7, 1, 3, 4, 3, 8, 7, 4, 4, 7, 4, 1, 8, 3, 2, 7, 4, 8, 1, 7, 2, 1, 5, 3, 2, 7, 7, 3, 2, 1, 5, 6, 5, 1, 3, 5, 1, 2, 8, 8, 7, 8, 1, 5, 8, 2, 2, 8, 3, 4, 5, 7, 7, 2, 2, 6, 1, 1, 4, 8, 4, 3, 1, 2, 7, 5, 8, 6, 6, 5, 7, 5, 1, 1, 1, 2, 8, 6, 8, 2, 3, 7, 4, 3, 8, 7, 3, 3, 5, 7, 1, 7, 1, 6, 3, 5, 2, 4, 1, 6, 6, 8, 8, 1, 3, 4, 2, 4, 7, 7, 6, 8, 8, 5, 5, 7, 8, 2, 7, 5, 2, 2, 4, 4, 4, 7, 3, 1, 3, 1, 7, 8, 7, 7, 8, 6, 6, 7, 7, 5, 7, 1, 2, 3, 2, 4, 6, 8, 7, 1, 4, 6, 2, 8, 3, 6, 1, 8, 3, 2, 5, 2, 8, 1, 2, 5, 6, 6, 3, 1, 8, 1, 2, 2, 4, 8, 2, 6, 2, 7, 4, 7, 4, 4, 4, 6, 4, 1, 7, 3, 6, 1, 5, 1, 3, 5, 3, 4, 8, 3, 5, 2, 4, 8, 1, 2, 2, 2, 4, 4, 1, 2, 2, 5, 8, 2, 1, 8, 3, 6, 7, 8, 4, 1, 4, 3, 5, 6, 2, 3, 4, 1, 3, 1, 5, 1, 3, 7, 2, 6, 6, 6, 2, 2, 6, 7, 4, 5, 5, 1, 3, 4, 7, 8, 5, 8, 3, 1, 4, 1, 4, 5, 4, 3, 4, 7, 7, 8, 4, 5, 1, 6, 1, 6, 7, 3, 7, 8, 8, 8, 7, 1, 2, 3, 7, 8, 8, 4, 6, 8, 2, 5, 8, 6, 4, 6, 6, 3, 1, 3, 6, 2, 5, 5, 5, 6, 6, 8, 2, 8, 7, 2, 3, 7, 1, 3, 5, 2, 2, 7, 8, 1, 6, 4, 1, 1, 6, 8, 3, 1, 1, 5, 5, 7, 6, 1, 4, 5, 8, 3, 6, 1, 2, 4, 2, 4, 5, 4, 6, 4, 4, 1, 2, 3, 2, 4, 5, 2, 6, 1, 2, 1, 5, 6, 6, 5, 1, 6, 2, 1, 2, 3, 6, 4, 5, 5, 4, 5, 5, 8, 8, 3, 8, 3, 4, 1, 4, 8, 1, 7, 3, 7, 4, 1, 5, 4, 3, 1, 4, 4, 6, 8, 1, 2, 3, 2, 1, 6, 6, 3, 5, 6, 7, 7, 3, 3, 5, 2, 5, 5, 5, 3, 5, 1, 4, 5, 2, 7, 8, 3, 4, 8, 6, 3, 7, 7, 5, 2, 8, 8, 6, 5, 1, 4, 1, 1, 7, 3, 4, 7, 8, 2, 1, 2, 3, 5, 6, 7, 8, 3, 4, 1, 5, 2, 4, 3, 7, 8, 3, 5, 1, 2, 5, 4, 5, 1, 1, 2, 7, 1, 2, 4, 6, 2, 5, 7, 2, 7, 3, 3, 2, 5, 8, 7, 5, 4, 2, 4, 8, 1, 8, 3, 6, 5, 3, 6, 1, 8, 2, 6, 3, 4, 5, 7, 8, 4, 1, 7, 3, 2, 6, 7, 7, 1, 5, 1, 5, 2, 7, 4, 3, 5, 6, 6, 8, 4, 7, 1, 5, 6, 7, 7, 3, 1, 6, 3, 6, 6, 8, 8, 3, 3, 5, 7, 8, 5, 5, 2, 3, 4, 4, 8, 3, 1, 1, 5, 8, 1, 4, 7, 8], \"Freq\": [1.0408979180218179, 0.9990670480540753, 0.9989510140156883, 0.9098128774711389, 1.0222832515013547, 1.0706378585367269, 1.0002125272447628, 0.9098128774711389, 0.9923134657498034, 1.0222832515013547, 0.9961586829947857, 0.003782881074663743, 0.8855468349267082, 0.8952812589875982, 0.9991641054945981, 1.0743375107851179, 0.9020146336776659, 0.0005571981133653933, 0.26244031139510027, 0.7360587077556846, 0.0007429308178205245, 1.0268287167324053, 0.9020146336776659, 0.978122246208078, 0.9082538217676333, 0.9020146336776659, 0.8952812589875982, 0.8855468349267082, 0.9973302173461118, 0.9098128774711389, 0.9082538217676333, 0.32187144470401635, 0.005219536941146211, 0.6729722962784515, 1.0066948203258872, 0.978122246208078, 1.000309797908938, 1.009170913075148, 0.9999383970599484, 0.9082538217676333, 0.9098128774711389, 1.0222832515013547, 1.00001622358943, 0.9999540107992346, 1.0002828283487297, 0.8003005902937708, 0.2000751475734427, 1.0000301028821923, 1.0033669035644797, 0.3896666565593219, 0.0003768536330360947, 0.6101260318854373, 0.8952812589875982, 0.9082538217676333, 0.9962401892925468, 0.9999968615447752, 0.8921982154472724, 1.0408979180218179, 0.7066264423171905, 0.2936002004918368, 0.9082538217676333, 0.9992472019560041, 0.0006039572087978266, 0.9808125447049061, 0.019126609686133115, 0.8952812589875982, 0.9731290947510355, 0.9814180369919996, 0.8952812589875982, 0.9998937813630223, 0.9992574971150365, 0.8855468349267082, 1.000121818405738, 1.0294594793622371, 0.9020146336776659, 0.9020146336776659, 1.0354575294780557, 0.8855468349267082, 1.0000474916008653, 0.9999547313853602, 0.9660510926473181, 0.9988110657088775, 0.999504604568751, 1.000109198279584, 0.9997520974270883, 0.01656593978754088, 0.9834511571432807, 1.0000051347041017, 0.006120033283013277, 0.018360099849039833, 0.9730852919991112, 1.0294594793622371, 0.9082538217676333, 0.3686100581950631, 0.6312447246590455, 0.0010895525293738789, 0.9985748931711601, 0.2681815513177998, 0.7316661013396472, 1.0072496742733936, 0.8952812589875982, 0.9999928121258846, 0.8921982154472724, 0.978122246208078, 0.9966278721226287, 0.9997252874060139, 0.8855468349267082, 0.0077269237818218565, 0.9921370135859263, 0.9962401892925468, 1.0000553211530516, 0.9995067000183806, 0.0006864743818807559, 1.0007941652182528, 0.715840233641796, 0.00768238005284261, 0.276565681902334, 1.000435564239357, 0.9997520974270883, 0.0002587080347055418, 0.7875072576436691, 0.21214058845854425, 0.9999556723713241, 1.0022384818640733, 0.978122246208078, 1.0614483570496622, 0.9082538217676333, 1.0001176647784316, 1.000029700869289, 0.29805559438560875, 0.3956928687339027, 0.2220787883436787, 0.08418796396198955, 0.7238433689640563, 0.2761502815611014, 0.9998692004788376, 0.978122246208078, 1.0222832515013547, 0.9993735352983542, 0.8952812589875982, 0.9945372146099954, 0.9999042433227768, 0.9098128774711389, 0.8952812589875982, 1.0003824851831982, 0.2987865235723663, 0.7011395656048647, 0.8952812589875982, 1.0001423773143585, 1.038004367734438, 0.1244051627773788, 0.008129158827926735, 0.3991997638714022, 0.4682250321335301, 0.978122246208078, 0.1945619089795171, 0.8055490650813233, 0.978122246208078, 0.9999245230251097, 0.909812877471139, 0.008587969881043479, 0.9914987692799239, 0.9999832197536681, 0.9947569544306647, 0.5221629312050621, 0.015866829401258793, 0.46186897948027866, 0.29702096654700705, 0.7030811915772177, 1.004166817513117, 0.9998883780614786, 0.9999323668228134, 1.0006084659273158, 0.9098128774711389, 0.978122246208078, 1.0066948203258872, 1.000044156852869, 0.9082538217676333, 1.0231785817001124, 1.0000996515713283, 1.0872304059519586, 0.4076147142520904, 0.5915824171446268, 0.9999619560389871, 0.9993793102214146, 0.8921982154472724, 1.0000501000939754, 0.9082538217676333, 1.0056584005066171, 0.8952812589875982, 0.8855468349267082, 0.9990792039443964, 0.3186836435017222, 0.6107558488557764, 0.07054365445811635, 1.0294594793622371, 1.0002828283487297, 0.4780224527802333, 0.5219457569139779, 1.00257530236328, 1.009170913075148, 0.9997520974270883, 1.0033669035644797, 0.0024159902520265023, 0.9978039740869454, 3.943796286339434e-05, 0.8539502098810776, 0.14599933852028585, 0.9082538217676333, 0.1976070903897639, 0.8030660243165405, 0.998555029574142, 0.0015129621660214274, 0.9936896547778308, 0.006282260049447528, 0.8952812589875982, 1.0003955138310163, 0.9082538217676333, 0.9922160970454326, 1.0003974089740342, 0.011013136837361862, 0.9889632504774275, 1.0354575294780557, 1.0000165473742604, 1.0002137968851665, 0.9026662155589887, 0.09753246273987623, 0.9995858716851825, 0.3569070580073359, 0.6432250308790131, 1.000208631774222, 1.0003824846754361, 0.9999771220079829, 0.9997487819528985, 1.000242194096942, 1.0000769223537753, 0.998289715202059, 0.9999235135903412, 0.999746336866996, 1.0000820645509492, 1.0000132632098457, 1.0872304059519586, 1.000038144631029, 0.9998497551957806, 0.9992494051926096, 1.0109031971901543, 0.9999601025266913, 0.9997112044257208, 0.8952812589875982, 1.000016084683841, 1.0000239894728582, 0.9994496318622836, 0.0005987417294367432, 0.036519277194315414, 0.9641089179299268, 0.978122246208078, 1.0001458960228184, 0.46970557241236804, 0.5303195087495747, 1.0899045861211598, 1.0001988087844527, 0.978122246208078, 1.052350405957277, 0.9985562447640262, 0.0010055954126525944, 0.9966278721226286, 0.7707460771324777, 0.060199724351675685, 0.16922284719329309, 0.8003066853359369, 0.1995174855560804, 0.8952812589875982, 1.002325757344811, 0.034730977350365205, 0.9652715924639613, 0.9966278721226287, 0.9971627113822455, 0.047752375582154005, 0.952245938437392, 1.0354575294780557, 0.24514632403260966, 0.7545465628599064, 1.0196551033683112, 0.9082538217676333, 0.15134884015550404, 0.8485756865799339, 1.0000690303150623, 0.9098128774711389, 0.9995263370888939, 1.0001378426152874, 0.766650146220544, 0.23322790592853898, 0.9340218903949633, 0.05474316921558872, 0.011233940262482376, 1.001127319163472, 1.0006084659273158, 0.9979409523230537, 1.0001630633210565, 1.000083130290172, 0.8952812589875982, 0.8952812589875982, 1.000071692961144, 0.9947569544306647, 0.978122246208078, 0.8281789410631449, 0.17181433319961004, 0.9995498017795093, 0.9098128774711389, 0.0024420875467145767, 0.9963717190595472, 0.8952812589875982, 0.999943990198156, 0.9098128774711389, 0.9999306958860967, 1.0217855494885875, 1.0000642651267588, 0.003609803463130968, 0.9963765362842085, 0.999858296123813, 0.9987680894571795, 0.8855468349267082, 1.000219868084764, 0.8921982154472724, 0.9993555786686245, 0.0009296330964359297, 0.978122246208078, 0.9986909042807622, 0.0012142138653869448, 1.0000780802630542, 1.00002254081131, 0.9918124551179133, 0.2151960721605621, 0.7846379861854341, 0.0029717878098084087, 0.9973319889717019, 0.8255441892620069, 0.17450893240733245, 1.0004644615030238, 1.0001394224133862, 1.0002538512069168, 0.5299153249270445, 0.4704614104230347, 0.5674550172352921, 0.43270458267894557, 0.9998626161969514, 0.9998833403131094, 1.0002033776354795, 0.9020146336776659, 1.0397861456813018, 0.9999739134105988, 1.00271501006611, 0.7790498206247564, 0.22096685821356726, 0.9995186703438795, 0.8921982154472724, 0.00042574245300859266, 0.9996432796641755, 0.8921982154472724, 0.8855468349267082, 0.9996129278249885, 0.0005612649791268885, 0.8855468349267082, 1.0000027440743333, 0.7367713599975717, 0.263306170287673, 0.9981635082892272, 0.978122246208078, 0.9998143615631929, 0.999834508577883, 1.0000647449274682, 1.000032933495547, 1.0001613741906454, 0.9999855693285131, 0.9731290947510355, 1.0000030678809544, 1.0408979180218179, 0.9999923696434276, 0.9995137751509839, 1.000540746670618, 1.0007380462411188, 0.4123108221875827, 0.21094535458617555, 0.36553843279136033, 0.01127045527619816, 0.9098128774711389, 1.0001282855471891, 0.999982082317463, 0.6221580365064577, 0.3777157581591332, 0.9997328856594131, 0.9082538217676333, 1.0000138263732004, 0.9098128774711389, 0.6323084927092124, 0.36770698008581904, 0.19226300435641752, 0.8077730483204879, 0.5302689268683197, 0.46866619408261473, 0.0010401962384077761, 1.0000528297870264, 0.9020146336776659, 0.9997515377403412, 0.9020146336776659, 1.0596294587289055, 0.9082538217676333, 0.9996148209167851, 1.0000071306935823, 0.9856306172604006, 0.9998721536172415, 0.9996440308668814, 1.0021991014993539, 0.8855468349267082, 0.9098128774711389, 0.8952812589875982, 1.0066948203258872, 0.9998299303497924, 0.9995041430378454, 0.9999714259565637, 0.9999797265702696, 0.9098128774711389, 0.3070679149328519, 0.6927043046933374, 0.00023245110895749578, 1.0004280433359707, 0.8855468349267082, 0.9983079066918296, 0.0013310772089224394, 0.9599525428786876, 0.03999802261994532, 0.9098128774711389, 1.0706378585367269, 0.9997806673741141, 0.9020146336776659, 0.1461430538277184, 0.853067593273426, 0.0006797351340824111, 0.8418235188504544, 0.1581302055100939, 0.9997925143133037, 1.0066948203258872, 1.0872304059519586, 1.0040537483973064, 0.24446099420923414, 0.615890101689931, 0.13947541995193513, 0.8952812589875982, 1.0268287167324053, 1.0066948203258872, 1.0000011710359897, 0.9108424181367658, 0.08922077003447551, 0.9999204483018306, 1.0000108796872829, 0.9973302173461118, 1.0000176532051894, 0.0014463287501963592, 0.9984489472188867, 0.9020146336776659, 1.1069335436583851, 0.1474381565802728, 0.7061319395077501, 0.14652466118634297, 0.9975995367942904, 0.001922157103649885, 1.000193727285431, 1.0408979180218179, 1.0000160523537753, 1.0222832515013547, 1.0268287167324053, 0.34935330401259884, 0.6495196807454455, 0.999989587542947, 0.9997194634360755, 0.665826352412901, 0.3342656963651534, 1.0000122341543778, 1.1069335436583851, 1.0196551033683112, 0.9082538217676333, 0.0001217673551708512, 0.7551402530920337, 0.24475238389341092, 0.00245901344281921, 0.9978676550960355, 0.9998704973223431, 1.0002240469637413, 0.15265194371385374, 0.003191329833739102, 0.8441067410239926, 0.9945372146099954, 1.0000400356716035, 0.08788098276508435, 0.9123162893070964, 1.0706378585367269, 0.8952812589875982, 0.9020146336776659, 0.978122246208078, 0.9098128774711389, 1.0706378585367269, 0.999562367145441, 0.7646950444305312, 0.23537741426506775, 1.0000036990712893, 1.0000476711627857, 0.909812877471139, 0.9999740352958918, 0.6741661276208731, 0.32568623720566237, 0.9748399378289382, 0.025247653066073218, 0.9098128774711389, 0.9999745139772879, 0.9870368087477468, 0.0016487251816499112, 0.010991501210999408, 0.1105704254582019, 0.6473165496955617, 0.2421329447840821, 0.9082538217676333, 0.99979108592861, 1.0001155274837625, 0.9999550017305593, 0.9935683712745299, 0.0008197758838898761, 0.005738431187229134, 0.902014633677666, 0.8921982154472724, 1.0003075887757025, 0.9996553929932895, 0.9082538217676333, 0.9862693230206041, 0.0010481076758986228, 0.012577292110783473, 1.0222832515013547, 0.9098128774711389, 1.0002839023406642, 0.9993652948714744, 0.0020027766345907688, 0.9973827640262029, 1.0294594793622371, 0.9998209129624287, 0.9990279392439354, 0.8855468349267082, 0.9944180542243524, 0.002584494478160241, 0.9967533704104664, 0.978122246208078, 0.9938422478307041, 0.006343673922323643, 0.28922915813081046, 0.7109374061746844, 1.0002337515684652, 0.8952812589875982, 0.9098128774711389, 1.0005709534980993, 1.0000558333688478, 1.0000005140166521, 0.8855468349267082, 0.994328521376002, 0.005903562043793057, 0.0009141838139090411, 0.9298555364331961, 0.06934737216938583, 0.5742416343064656, 0.04266726766971845, 0.3829183448830146, 0.9990792039443964, 0.978122246208078, 0.9020146336776659, 0.9999840122323014, 1.0001169651974071, 0.9814180369919996, 1.0001117158548125, 0.9975991171576095, 0.8952812589875982, 1.0002735503828, 0.8855468349267082, 1.0004030706834355, 0.9205271540947398, 0.07925068214060674, 0.8921982154472724, 1.0196551033683112, 1.000087650612385, 1.0294594793622371, 0.9925055187666734, 0.006758306061640772, 0.0009654722945201103, 0.9908223510192362, 0.006517605193557188, 0.9906759894206926, 1.000098594363393, 0.9998796411562197, 1.0872304059519586, 0.9840159640119992, 0.8855468349267082, 0.9998701911123177, 0.8952812589875982, 1.0000253794531992, 0.9691935028166387, 0.030503944294658157, 1.0872304059519586, 0.999866319776821, 0.9999774916333428, 0.6960158089684029, 0.3038942264509928, 1.0006703743003151, 1.00026968041334, 0.8952812589875982, 1.0001351881408338, 0.9098128774711389, 0.8952812589875982, 1.0066948203258872, 0.9999720361195032, 0.0012838241688320445, 0.7741459738057229, 0.0006419120844160223, 0.0006419120844160223, 0.0019257362532480668, 0.0012838241688320445, 0.2195339328702796, 1.0000113055735471, 0.9098128774711389, 0.9681125912318417, 0.03254941469079199, 0.9996330172503526, 0.9098128774711389, 1.0000052693730175, 0.9997648841783706, 0.9966278721226286, 0.09493514869098309, 0.9045373794532178, 0.0002047521774796639, 0.4406266859362368, 0.5589734445194825, 0.0003227946689562212, 0.9996950897574169, 0.978122246208078, 1.0021991014993539, 0.10167645636491943, 0.8989123074080376, 0.978122246208078, 0.780051228849101, 0.2199217892056367, 0.902014633677666, 0.9987867065905046, 0.0009146398412000958, 1.001142218665186, 0.420034544931642, 0.5797551762767637, 1.000450003664402, 1.000129158897516, 0.19931124045156168, 0.8004795791638258, 0.00017643367404977429, 1.0006084659273158, 1.00041632783306, 1.0003219440015725, 1.0151072125638254, 0.9997526563733908, 0.00023121014254703765, 1.000089909770456, 0.9848101503188029, 0.8855468349267082, 0.9922160970454326, 1.0196551033683112, 0.17591814176115053, 0.8240376114074945, 0.978122246208078, 0.9995371277960474, 0.9999172697545629, 1.0222832515013547, 0.00010471281135419556, 0.9367608103746335, 0.06314182524657992, 0.8952812589875982, 0.9995041430378454, 1.0001542471827953, 0.9999377697980936, 0.8952812589875982, 0.8855468349267082, 0.9082538217676333, 0.003378515015040976, 0.996661929437088, 0.8952812589875982, 1.0001253742418703, 0.9998541087139114, 0.978122246208078, 1.0408979180218179, 0.011886518147505548, 0.9865810062429605, 0.9098128774711389, 0.8855468349267082, 1.0196551033683112, 1.0000532245200684, 1.052350405957277, 1.0872304059519586, 0.9995970430110541, 0.9989454047651097, 0.978122246208078, 0.9987641452358803, 0.0012837585414342935, 0.9995858716851825, 0.9981871508252533, 0.8855468349267082, 1.00257530236328, 1.0222832515013547, 0.1578612205420894, 0.8424016373848743, 0.9922160970454326, 1.001157998814095, 1.0872304059519586, 0.8855468349267082, 0.0007016853677217241, 0.999199963635735, 0.29669327312231364, 0.7033088222069002, 0.999945678094391, 0.9997752126638128, 0.6402432155622476, 0.0007640133837258325, 0.35908629035114126, 0.9098128774711389, 1.0066948203258872, 0.8855468349267082, 1.0000509674166023, 0.978122246208078, 1.0004428518802135, 1.0872304059519586, 1.00257530236328, 0.8244769531675314, 0.17570820313406407, 1.0066948203258872], \"Term\": [\"ab\", \"absolutely\", \"accenture\", \"accumulative\", \"active_duty\", \"activita\", \"activity\", \"adamant\", \"adaptive\", \"adjustable\", \"advancement\", \"advancement\", \"agra\", \"allerdings\", \"alot\", \"altogether\", \"amazimg\", \"amazing\", \"amazing\", \"amazing\", \"amazing\", \"ambient\", \"ambivalence\", \"america_works\", \"ameriprise\", \"ammenitie\", \"amusing\", \"angebot\", \"appraisal\", \"apprasial\", \"arch\", \"area\", \"area\", \"area\", \"aricent\", \"assess\", \"associate\", \"astounding\", \"atmosphere\", \"atoe\", \"attraktiven\", \"automatic\", \"average\", \"awesome\", \"back\", \"bad\", \"bad\", \"balance\", \"balanced\", \"base\", \"base\", \"base\", \"bbh\", \"becausea\", \"bed\", \"benefit\", \"beneift\", \"bennefit\", \"big\", \"big\", \"bondind\", \"bonus\", \"bonus\", \"boss\", \"boss\", \"boundarie\", \"boutique\", \"boys_club\", \"bracknell\", \"brand\", \"brand_name\", \"breads\", \"break\", \"bride\", \"bros\", \"bubba\", \"bundle\", \"busied\", \"business\", \"busy\", \"butter\", \"cab\", \"cafeteria\", \"call\", \"canteen\", \"care\", \"care\", \"career\", \"carrier\", \"carrier\", \"carrier\", \"caseload\", \"chainew\", \"challenge\", \"challenge\", \"chance\", \"chance\", \"change\", \"change\", \"chase\", \"chemist\", \"child\", \"choix\", \"chop\", \"cincinnati\", \"city\", \"citydisc\", \"class\", \"class\", \"clean_bathrooms\", \"client\", \"close\", \"close\", \"cms\", \"co_workers\", \"co_workers\", \"co_workers\", \"coffee\", \"cognizant\", \"colleague\", \"colleague\", \"colleague\", \"college\", \"columbus_circle\", \"coming\", \"comma\", \"commion\", \"communication\", \"community\", \"company\", \"company\", \"company\", \"company\", \"compensation\", \"compensation\", \"competitive\", \"confine\", \"considerably\", \"contract\", \"converge\", \"cook\", \"cool\", \"costar\", \"costomize\", \"country\", \"coworker\", \"coworker\", \"crapshoot\", \"create\", \"crowded\", \"culture\", \"culture\", \"culture\", \"culture\", \"curse\", \"customer\", \"customer\", \"cut_throat\", \"cv\", \"danaher\", \"day\", \"day\", \"decent\", \"deduct\", \"department\", \"department\", \"department\", \"depend\", \"depend\", \"der\", \"develop\", \"development\", \"die\", \"dignify\", \"dime\", \"diploma\", \"discount\", \"dishearten\", \"dit\", \"diverse\", \"dod\", \"door\", \"door\", \"drive\", \"due\", \"earnest\", \"easy\", \"educationfund\", \"een\", \"einf\", \"elpe\", \"emerson\", \"employee\", \"employee\", \"employee\", \"encadrement\", \"end\", \"enjoy\", \"enjoy\", \"enter\", \"entitle\", \"env\", \"enviornment\", \"enviroment\", \"enviroment\", \"environment\", \"environment\", \"environment\", \"ersten\", \"ethic\", \"ethic\", \"event\", \"event\", \"excellent\", \"excellent\", \"excersise\", \"exciting\", \"excom\", \"exempt\", \"expect\", \"experience\", \"experience\", \"exposer\", \"exposure\", \"extra\", \"extremely\", \"extremely\", \"fabulous\", \"facility\", \"facility\", \"fair\", \"fairly\", \"family\", \"fantastic\", \"fast_pace\", \"feel\", \"fight\", \"find\", \"firm\", \"flexibility\", \"flexible\", \"flooding\", \"focus\", \"food\", \"foot\", \"form_partnerships\", \"free\", \"fresher\", \"frey\", \"friday\", \"friend\", \"friendly\", \"friendly\", \"friendship\", \"friendship\", \"fro\", \"full\", \"fun\", \"fun\", \"fusion\", \"gain\", \"gauge\", \"general_counsel\", \"generous\", \"generous\", \"german\", \"give\", \"give\", \"give\", \"global\", \"global\", \"gmc\", \"goede\", \"good\", \"good\", \"goood\", \"grand_groupe\", \"great\", \"great\", \"greenfield\", \"group\", \"group\", \"groupe_international\", \"groupwork\", \"grow\", \"grow\", \"growth\", \"gtas\", \"gute\", \"gym\", \"happy\", \"happy\", \"hard\", \"hard\", \"hard\", \"hardworking\", \"hat\", \"hcl\", \"health\", \"health_insurance\", \"healthier\", \"helpe\", \"helpful\", \"het\", \"hiccup\", \"high\", \"high\", \"highly\", \"hii\", \"hike\", \"hike\", \"hilfe\", \"hire\", \"hitachi\", \"holiday\", \"holistic\", \"home\", \"hour\", \"hour\", \"hr\", \"hr_policies\", \"icahn\", \"idea\", \"illiterate\", \"impact\", \"impact\", \"impose\", \"improve\", \"improve\", \"incentive\", \"include\", \"incorporate\", \"independently\", \"independently\", \"individual\", \"individual\", \"industry\", \"industry\", \"infrastructure\", \"innovative\", \"insurance\", \"intelligent\", \"intelligent\", \"interesting\", \"interesting\", \"intern\", \"internal\", \"international\", \"interviwed\", \"iss\", \"issue\", \"je\", \"job\", \"job\", \"join\", \"jumia\", \"kid\", \"kid\", \"kind_hearte\", \"kirkland\", \"knowledge\", \"knowledge\", \"kubota\", \"laid_back\", \"large\", \"large\", \"latest_technologie\", \"lawsuit\", \"lead\", \"leader\", \"leadership\", \"learn\", \"learning\", \"leave\", \"legitimately\", \"level\", \"liability\", \"life\", \"line\", \"listen\", \"load\", \"location\", \"location\", \"location\", \"location\", \"logos\", \"long\", \"lot\", \"love\", \"love\", \"low\", \"ls\", \"lunch\", \"maitenance\", \"make\", \"make\", \"management\", \"management\", \"manager\", \"manager\", \"manager\", \"market\", \"martha\", \"match\", \"mcconachy\", \"mckinsey\", \"meaningless\", \"medical\", \"meet\", \"melting_pot\", \"member\", \"membership\", \"memory\", \"methodologie\", \"migration\", \"milticultural\", \"minus\", \"mission\", \"mnc\", \"money\", \"month\", \"mortgagea\", \"move\", \"move\", \"move\", \"multiple\", \"nelnet\", \"network\", \"network\", \"nice\", \"nice\", \"nixdorf\", \"novice\", \"number\", \"oceanfront\", \"offer\", \"offer\", \"offer\", \"office\", \"office\", \"onsite\", \"onsite_oppurtunitie\", \"ontime\", \"op\", \"open\", \"open\", \"open\", \"opleiding\", \"opportunie\", \"opportunitite\", \"opportunity\", \"option\", \"option\", \"organization\", \"orient\", \"overseas\", \"overtime\", \"package\", \"package\", \"palliative\", \"pandora\", \"part\", \"part\", \"part\", \"passionate\", \"passionate\", \"patient\", \"patients\", \"pay\", \"paying\", \"payscale\", \"peer\", \"peer\", \"people\", \"performance\", \"perk\", \"perk\", \"person\", \"peru\", \"petit\", \"piir\", \"place\", \"place\", \"place\", \"plan\", \"plan\", \"plenty\", \"point\", \"policy\", \"policy\", \"policy\", \"pop\", \"position\", \"positive\", \"positive\", \"possibilita\", \"powell\", \"predefine\", \"preferred\", \"prepares\", \"pression\", \"pressure\", \"pretty\", \"pretty\", \"pro\", \"process\", \"proctor\", \"product\", \"professional\", \"professional\", \"program\", \"program\", \"progronose\", \"project\", \"promote\", \"promote\", \"promote\", \"provide\", \"provide\", \"provide\", \"proyect\", \"pto\", \"put\", \"quality\", \"quickly\", \"quickly\", \"quickly\", \"railroad_retirement\", \"ramsey\", \"reason\", \"reasonable\", \"reassign\", \"receive\", \"receive\", \"receive\", \"redundancy\", \"reebok\", \"relationship\", \"relax\", \"relaxed\", \"relaxed\", \"remboursement\", \"remote\", \"remotely\", \"representatives\", \"repute\", \"research\", \"research\", \"residual_income\", \"resource\", \"resource\", \"resume\", \"resume\", \"retail\", \"retira\", \"retribution\", \"review\", \"rewarding\", \"room\", \"rumors\", \"run\", \"run\", \"salary\", \"salary\", \"salary\", \"sale\", \"sale\", \"sale\", \"samsung\", \"sarah\", \"sbms\", \"schedule\", \"school\", \"secteur\", \"security\", \"sehr\", \"selector\", \"sell\", \"sensor\", \"serve\", \"service\", \"service\", \"settling\", \"shady\", \"shift\", \"shift_rotation\", \"show\", \"show\", \"show\", \"shrink\", \"siemens\", \"siemens\", \"site\", \"skill\", \"skyhorse\", \"slow_season\", \"slushee\", \"smart\", \"sobour\", \"social\", \"solid\", \"solid\", \"sparefoot\", \"stable\", \"staff\", \"start\", \"start\", \"state\", \"stay\", \"stillwater\", \"store\", \"stow\", \"stray\", \"strict_rules\", \"strong\", \"structure\", \"structure\", \"structure\", \"structure\", \"structure\", \"structure\", \"structure\", \"student\", \"subsystem\", \"succeed\", \"succeed\", \"success\", \"suffecient\", \"summer\", \"super\", \"superb\", \"supervisor\", \"supervisor\", \"support\", \"support\", \"support\", \"supportive\", \"supportive\", \"surpass\", \"surprise\", \"surround\", \"surround\", \"sword\", \"system\", \"system\", \"tage\", \"talent\", \"talent\", \"talente\", \"talented\", \"talented\", \"task\", \"teach\", \"team\", \"team\", \"team\", \"teammate\", \"teamwork\", \"technical\", \"technologically\", \"technology\", \"technology\", \"thing\", \"thomson_reuter\", \"thoughworks\", \"three_weeks\", \"tickets\", \"time\", \"time\", \"timesheet\", \"timing\", \"top\", \"tracking\", \"training\", \"training\", \"training\", \"traject\", \"transport\", \"travel\", \"treat\", \"trns\", \"troughout\", \"tudiant\", \"und\", \"und\", \"underline\", \"understand\", \"understanding\", \"unfortunate\", \"unlimited_earning\", \"upward_mobility\", \"upward_mobility\", \"usf\", \"usgs\", \"uw\", \"vacation\", \"vacay\", \"variable_payout\", \"variety\", \"veel\", \"verse\", \"veteran\", \"veteran\", \"vibe\", \"viele\", \"vindictiveness\", \"visa\", \"vitality\", \"week\", \"week\", \"wf\", \"wfh\", \"wfm\", \"whittington\", \"wonderful\", \"wonderful\", \"work\", \"work\", \"working\", \"workplace\", \"world\", \"world\", \"world\", \"wrathful\", \"write_word\", \"wtih\", \"year\", \"yellow\", \"ymca\", \"york\", \"youa\", \"young\", \"young\", \"young_crowd\"]}, \"R\": 30, \"lambda.step\": 0.01, \"plot.opts\": {\"xlab\": \"PC1\", \"ylab\": \"PC2\"}, \"topic.order\": [6, 2, 4, 8, 7, 1, 3, 5]};\n",
       "\n",
       "function LDAvis_load_lib(url, callback){\n",
       "  var s = document.createElement('script');\n",
       "  s.src = url;\n",
       "  s.async = true;\n",
       "  s.onreadystatechange = s.onload = callback;\n",
       "  s.onerror = function(){console.warn(\"failed to load library \" + url);};\n",
       "  document.getElementsByTagName(\"head\")[0].appendChild(s);\n",
       "}\n",
       "\n",
       "if(typeof(LDAvis) !== \"undefined\"){\n",
       "   // already loaded: just create the visualization\n",
       "   !function(LDAvis){\n",
       "       new LDAvis(\"#\" + \"ldavis_el35171404638451296802833052181\", ldavis_el35171404638451296802833052181_data);\n",
       "   }(LDAvis);\n",
       "}else if(typeof define === \"function\" && define.amd){\n",
       "   // require.js is available: use it to load d3/LDAvis\n",
       "   require.config({paths: {d3: \"https://cdnjs.cloudflare.com/ajax/libs/d3/3.5.5/d3.min\"}});\n",
       "   require([\"d3\"], function(d3){\n",
       "      window.d3 = d3;\n",
       "      LDAvis_load_lib(\"https://cdn.rawgit.com/bmabey/pyLDAvis/files/ldavis.v1.0.0.js\", function(){\n",
       "        new LDAvis(\"#\" + \"ldavis_el35171404638451296802833052181\", ldavis_el35171404638451296802833052181_data);\n",
       "      });\n",
       "    });\n",
       "}else{\n",
       "    // require.js not available: dynamically load d3 & LDAvis\n",
       "    LDAvis_load_lib(\"https://cdnjs.cloudflare.com/ajax/libs/d3/3.5.5/d3.min.js\", function(){\n",
       "         LDAvis_load_lib(\"https://cdn.rawgit.com/bmabey/pyLDAvis/files/ldavis.v1.0.0.js\", function(){\n",
       "                 new LDAvis(\"#\" + \"ldavis_el35171404638451296802833052181\", ldavis_el35171404638451296802833052181_data);\n",
       "            })\n",
       "         });\n",
       "}\n",
       "</script>"
      ],
      "text/plain": [
       "PreparedData(topic_coordinates=              x         y  topics  cluster       Freq\n",
       "topic                                                \n",
       "5     -0.144631  0.048618       1        1  13.561105\n",
       "1     -0.057518  0.233344       2        1  13.211670\n",
       "3     -0.185547 -0.209594       3        1  12.709443\n",
       "7     -0.149539  0.232047       4        1  12.495586\n",
       "6     -0.029951  0.050977       5        1  12.132571\n",
       "0     -0.099482 -0.315695       6        1  12.066256\n",
       "2      0.327956  0.015732       7        1  11.926637\n",
       "4      0.338711 -0.055430       8        1  11.896732, topic_info=             Term           Freq          Total Category  logprob  loglift\n",
       "10           good   85744.000000   85744.000000  Default  30.0000  30.0000\n",
       "7            work  109422.000000  109422.000000  Default  29.0000  29.0000\n",
       "1           great   79598.000000   79598.000000  Default  28.0000  28.0000\n",
       "191        people   41916.000000   41916.000000  Default  27.0000  27.0000\n",
       "8         benefit   33210.000000   33210.000000  Default  26.0000  26.0000\n",
       "..            ...            ...            ...      ...      ...      ...\n",
       "18   compensation     821.169087    2973.018877   Topic8  -5.7155   0.8423\n",
       "563     colleague     820.065365    3865.361202   Topic8  -5.7168   0.5785\n",
       "234        salary     530.890230    7657.103411   Topic8  -6.1516  -0.5399\n",
       "87           nice     622.499147   15550.768744   Topic8  -5.9925  -1.0892\n",
       "833     structure     342.153786    1557.845730   Topic8  -6.5909   0.6131\n",
       "\n",
       "[633 rows x 6 columns], token_table=       Topic      Freq          Term\n",
       "term                                \n",
       "11467      5  1.040898            ab\n",
       "1170       1  0.999067    absolutely\n",
       "3150       8  0.998951     accenture\n",
       "15675      4  0.909813  accumulative\n",
       "3384       6  1.022283   active_duty\n",
       "...      ...       ...           ...\n",
       "20844      8  1.087230          york\n",
       "7139       1  1.002575          youa\n",
       "548        4  0.824477         young\n",
       "548        7  0.175708         young\n",
       "5328       8  1.006695   young_crowd\n",
       "\n",
       "[734 rows x 3 columns], R=30, lambda_step=0.01, plot_opts={'xlab': 'PC1', 'ylab': 'PC2'}, topic_order=[6, 2, 4, 8, 7, 1, 3, 5])"
      ]
     },
     "execution_count": 102,
     "metadata": {},
     "output_type": "execute_result"
    }
   ],
   "source": [
    "pyLDAvis.enable_notebook()\n",
    "lda_model = gensim.models.wrappers.ldamallet.malletmodel2ldamodel(optimal_model)\n",
    "vis = pyLDAvis.gensim.prepare(lda_model, corpus, id2word)\n",
    "vis"
   ]
  },
  {
   "cell_type": "code",
   "execution_count": null,
   "metadata": {},
   "outputs": [],
   "source": []
  }
 ],
 "metadata": {
  "kernelspec": {
   "display_name": "Python 3",
   "language": "python",
   "name": "python3"
  },
  "language_info": {
   "codemirror_mode": {
    "name": "ipython",
    "version": 3
   },
   "file_extension": ".py",
   "mimetype": "text/x-python",
   "name": "python",
   "nbconvert_exporter": "python",
   "pygments_lexer": "ipython3",
   "version": "3.8.5"
  }
 },
 "nbformat": 4,
 "nbformat_minor": 4
}
